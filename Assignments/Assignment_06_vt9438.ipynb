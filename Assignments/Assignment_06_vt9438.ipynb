{
  "nbformat": 4,
  "nbformat_minor": 0,
  "metadata": {
    "colab": {
      "name": "Assignment 06.ipynb",
      "provenance": [],
      "collapsed_sections": []
    },
    "kernelspec": {
      "name": "python3",
      "display_name": "Python 3"
    },
    "language_info": {
      "name": "python"
    }
  },
  "cells": [
    {
      "cell_type": "markdown",
      "metadata": {
        "id": "zdOVlzzbPqpk"
      },
      "source": [
        "# Assignment 06 vt9438\n",
        "\n",
        "In this notebook, I perform GMM clustering on the iris dataset, generate some datapoints, and perform k means clustering on them."
      ]
    },
    {
      "cell_type": "code",
      "metadata": {
        "id": "757qEG09-8xU"
      },
      "source": [
        "import pandas as pd\n",
        "import numpy as np\n",
        "import matplotlib.pyplot as plt\n",
        "import seaborn as sns\n",
        "sns.set(style=\"white\", color_codes=True)\n",
        "\n",
        "%matplotlib inline"
      ],
      "execution_count": null,
      "outputs": []
    },
    {
      "cell_type": "code",
      "metadata": {
        "id": "SSA57ehnEMey"
      },
      "source": [
        "url = \"https://archive.ics.uci.edu/ml/machine-learning-databases/iris/iris.data\"\n",
        "\n",
        "names = ['sepal-length', 'sepal-width', 'petal-length', 'petal-width', 'species']\n",
        "iris = pd.read_csv(url, names=names)"
      ],
      "execution_count": null,
      "outputs": []
    },
    {
      "cell_type": "markdown",
      "metadata": {
        "id": "FK8rVDliiwU0"
      },
      "source": [
        "Let us see how to process the data. We must make the target machine readable and scale the other values."
      ]
    },
    {
      "cell_type": "code",
      "metadata": {
        "colab": {
          "base_uri": "https://localhost:8080/",
          "height": 203
        },
        "id": "hZVXORChEn3Y",
        "outputId": "a9f0fca1-69a0-4002-dd6b-c70209185694"
      },
      "source": [
        "iris.head()"
      ],
      "execution_count": null,
      "outputs": [
        {
          "output_type": "execute_result",
          "data": {
            "text/html": [
              "<div>\n",
              "<style scoped>\n",
              "    .dataframe tbody tr th:only-of-type {\n",
              "        vertical-align: middle;\n",
              "    }\n",
              "\n",
              "    .dataframe tbody tr th {\n",
              "        vertical-align: top;\n",
              "    }\n",
              "\n",
              "    .dataframe thead th {\n",
              "        text-align: right;\n",
              "    }\n",
              "</style>\n",
              "<table border=\"1\" class=\"dataframe\">\n",
              "  <thead>\n",
              "    <tr style=\"text-align: right;\">\n",
              "      <th></th>\n",
              "      <th>sepal-length</th>\n",
              "      <th>sepal-width</th>\n",
              "      <th>petal-length</th>\n",
              "      <th>petal-width</th>\n",
              "      <th>species</th>\n",
              "    </tr>\n",
              "  </thead>\n",
              "  <tbody>\n",
              "    <tr>\n",
              "      <th>0</th>\n",
              "      <td>5.1</td>\n",
              "      <td>3.5</td>\n",
              "      <td>1.4</td>\n",
              "      <td>0.2</td>\n",
              "      <td>Iris-setosa</td>\n",
              "    </tr>\n",
              "    <tr>\n",
              "      <th>1</th>\n",
              "      <td>4.9</td>\n",
              "      <td>3.0</td>\n",
              "      <td>1.4</td>\n",
              "      <td>0.2</td>\n",
              "      <td>Iris-setosa</td>\n",
              "    </tr>\n",
              "    <tr>\n",
              "      <th>2</th>\n",
              "      <td>4.7</td>\n",
              "      <td>3.2</td>\n",
              "      <td>1.3</td>\n",
              "      <td>0.2</td>\n",
              "      <td>Iris-setosa</td>\n",
              "    </tr>\n",
              "    <tr>\n",
              "      <th>3</th>\n",
              "      <td>4.6</td>\n",
              "      <td>3.1</td>\n",
              "      <td>1.5</td>\n",
              "      <td>0.2</td>\n",
              "      <td>Iris-setosa</td>\n",
              "    </tr>\n",
              "    <tr>\n",
              "      <th>4</th>\n",
              "      <td>5.0</td>\n",
              "      <td>3.6</td>\n",
              "      <td>1.4</td>\n",
              "      <td>0.2</td>\n",
              "      <td>Iris-setosa</td>\n",
              "    </tr>\n",
              "  </tbody>\n",
              "</table>\n",
              "</div>"
            ],
            "text/plain": [
              "   sepal-length  sepal-width  petal-length  petal-width      species\n",
              "0           5.1          3.5           1.4          0.2  Iris-setosa\n",
              "1           4.9          3.0           1.4          0.2  Iris-setosa\n",
              "2           4.7          3.2           1.3          0.2  Iris-setosa\n",
              "3           4.6          3.1           1.5          0.2  Iris-setosa\n",
              "4           5.0          3.6           1.4          0.2  Iris-setosa"
            ]
          },
          "metadata": {},
          "execution_count": 3
        }
      ]
    },
    {
      "cell_type": "code",
      "metadata": {
        "colab": {
          "base_uri": "https://localhost:8080/"
        },
        "id": "XgJn5aViFSiF",
        "outputId": "0d090805-d13f-4e36-f1fb-fffd11a065b3"
      },
      "source": [
        "iris.species.unique()"
      ],
      "execution_count": null,
      "outputs": [
        {
          "output_type": "execute_result",
          "data": {
            "text/plain": [
              "array(['Iris-setosa', 'Iris-versicolor', 'Iris-virginica'], dtype=object)"
            ]
          },
          "metadata": {},
          "execution_count": 4
        }
      ]
    },
    {
      "cell_type": "code",
      "metadata": {
        "id": "Ol8RsH4sEzl6"
      },
      "source": [
        "# turning this feature machine readable \n",
        "spec = {'Iris-setosa': 0, 'Iris-versicolor': 1, 'Iris-virginica': 2}\n",
        "data = [iris]\n",
        "\n",
        "for dataset in data:\n",
        "    dataset['species'] = dataset['species'].map(spec)"
      ],
      "execution_count": null,
      "outputs": []
    },
    {
      "cell_type": "code",
      "metadata": {
        "colab": {
          "base_uri": "https://localhost:8080/"
        },
        "id": "3U9-vRSpExbG",
        "outputId": "29b2131d-9ab1-4f41-e749-401ae84633a4"
      },
      "source": [
        "iris.species.unique()"
      ],
      "execution_count": null,
      "outputs": [
        {
          "output_type": "execute_result",
          "data": {
            "text/plain": [
              "array([0, 1, 2])"
            ]
          },
          "metadata": {},
          "execution_count": 6
        }
      ]
    },
    {
      "cell_type": "code",
      "metadata": {
        "colab": {
          "base_uri": "https://localhost:8080/",
          "height": 417
        },
        "id": "UXhZCJ25HaNC",
        "outputId": "19fb0c2c-12e4-448a-94f9-99dc9a2151d1"
      },
      "source": [
        "X = iris\n",
        "X.drop(labels = 'species', axis=1)"
      ],
      "execution_count": null,
      "outputs": [
        {
          "output_type": "execute_result",
          "data": {
            "text/html": [
              "<div>\n",
              "<style scoped>\n",
              "    .dataframe tbody tr th:only-of-type {\n",
              "        vertical-align: middle;\n",
              "    }\n",
              "\n",
              "    .dataframe tbody tr th {\n",
              "        vertical-align: top;\n",
              "    }\n",
              "\n",
              "    .dataframe thead th {\n",
              "        text-align: right;\n",
              "    }\n",
              "</style>\n",
              "<table border=\"1\" class=\"dataframe\">\n",
              "  <thead>\n",
              "    <tr style=\"text-align: right;\">\n",
              "      <th></th>\n",
              "      <th>sepal-length</th>\n",
              "      <th>sepal-width</th>\n",
              "      <th>petal-length</th>\n",
              "      <th>petal-width</th>\n",
              "    </tr>\n",
              "  </thead>\n",
              "  <tbody>\n",
              "    <tr>\n",
              "      <th>0</th>\n",
              "      <td>5.1</td>\n",
              "      <td>3.5</td>\n",
              "      <td>1.4</td>\n",
              "      <td>0.2</td>\n",
              "    </tr>\n",
              "    <tr>\n",
              "      <th>1</th>\n",
              "      <td>4.9</td>\n",
              "      <td>3.0</td>\n",
              "      <td>1.4</td>\n",
              "      <td>0.2</td>\n",
              "    </tr>\n",
              "    <tr>\n",
              "      <th>2</th>\n",
              "      <td>4.7</td>\n",
              "      <td>3.2</td>\n",
              "      <td>1.3</td>\n",
              "      <td>0.2</td>\n",
              "    </tr>\n",
              "    <tr>\n",
              "      <th>3</th>\n",
              "      <td>4.6</td>\n",
              "      <td>3.1</td>\n",
              "      <td>1.5</td>\n",
              "      <td>0.2</td>\n",
              "    </tr>\n",
              "    <tr>\n",
              "      <th>4</th>\n",
              "      <td>5.0</td>\n",
              "      <td>3.6</td>\n",
              "      <td>1.4</td>\n",
              "      <td>0.2</td>\n",
              "    </tr>\n",
              "    <tr>\n",
              "      <th>...</th>\n",
              "      <td>...</td>\n",
              "      <td>...</td>\n",
              "      <td>...</td>\n",
              "      <td>...</td>\n",
              "    </tr>\n",
              "    <tr>\n",
              "      <th>145</th>\n",
              "      <td>6.7</td>\n",
              "      <td>3.0</td>\n",
              "      <td>5.2</td>\n",
              "      <td>2.3</td>\n",
              "    </tr>\n",
              "    <tr>\n",
              "      <th>146</th>\n",
              "      <td>6.3</td>\n",
              "      <td>2.5</td>\n",
              "      <td>5.0</td>\n",
              "      <td>1.9</td>\n",
              "    </tr>\n",
              "    <tr>\n",
              "      <th>147</th>\n",
              "      <td>6.5</td>\n",
              "      <td>3.0</td>\n",
              "      <td>5.2</td>\n",
              "      <td>2.0</td>\n",
              "    </tr>\n",
              "    <tr>\n",
              "      <th>148</th>\n",
              "      <td>6.2</td>\n",
              "      <td>3.4</td>\n",
              "      <td>5.4</td>\n",
              "      <td>2.3</td>\n",
              "    </tr>\n",
              "    <tr>\n",
              "      <th>149</th>\n",
              "      <td>5.9</td>\n",
              "      <td>3.0</td>\n",
              "      <td>5.1</td>\n",
              "      <td>1.8</td>\n",
              "    </tr>\n",
              "  </tbody>\n",
              "</table>\n",
              "<p>150 rows × 4 columns</p>\n",
              "</div>"
            ],
            "text/plain": [
              "     sepal-length  sepal-width  petal-length  petal-width\n",
              "0             5.1          3.5           1.4          0.2\n",
              "1             4.9          3.0           1.4          0.2\n",
              "2             4.7          3.2           1.3          0.2\n",
              "3             4.6          3.1           1.5          0.2\n",
              "4             5.0          3.6           1.4          0.2\n",
              "..            ...          ...           ...          ...\n",
              "145           6.7          3.0           5.2          2.3\n",
              "146           6.3          2.5           5.0          1.9\n",
              "147           6.5          3.0           5.2          2.0\n",
              "148           6.2          3.4           5.4          2.3\n",
              "149           5.9          3.0           5.1          1.8\n",
              "\n",
              "[150 rows x 4 columns]"
            ]
          },
          "metadata": {},
          "execution_count": 7
        }
      ]
    },
    {
      "cell_type": "code",
      "metadata": {
        "colab": {
          "base_uri": "https://localhost:8080/"
        },
        "id": "EjA2_q5EHqXT",
        "outputId": "dd810d63-e497-4080-f22e-f538ff81b75d"
      },
      "source": [
        "y = iris.species\n",
        "y"
      ],
      "execution_count": null,
      "outputs": [
        {
          "output_type": "execute_result",
          "data": {
            "text/plain": [
              "0      0\n",
              "1      0\n",
              "2      0\n",
              "3      0\n",
              "4      0\n",
              "      ..\n",
              "145    2\n",
              "146    2\n",
              "147    2\n",
              "148    2\n",
              "149    2\n",
              "Name: species, Length: 150, dtype: int64"
            ]
          },
          "metadata": {},
          "execution_count": 8
        }
      ]
    },
    {
      "cell_type": "code",
      "metadata": {
        "id": "XVFT3EXyMZWo"
      },
      "source": [
        "# Scale the data to be between -1 and 1\n",
        "from sklearn.preprocessing import StandardScaler\n",
        "scaler = StandardScaler()\n",
        "scaler.fit(X)\n",
        "X = scaler.transform(X)"
      ],
      "execution_count": null,
      "outputs": []
    },
    {
      "cell_type": "markdown",
      "metadata": {
        "id": "EFAuhr2ji7b7"
      },
      "source": [
        "Let us split the data into train and test."
      ]
    },
    {
      "cell_type": "code",
      "metadata": {
        "id": "3PTaup5kHuv3"
      },
      "source": [
        "from sklearn.model_selection import train_test_split\n",
        "X_train, X_test, y_train, y_test = train_test_split(X, y, test_size=0.2, random_state=1)"
      ],
      "execution_count": null,
      "outputs": []
    },
    {
      "cell_type": "markdown",
      "metadata": {
        "id": "7HJDmKnijALK"
      },
      "source": [
        "Applying GMM to the data:\n",
        "\n"
      ]
    },
    {
      "cell_type": "code",
      "metadata": {
        "id": "gUIgRayGItO-"
      },
      "source": [
        "from sklearn.mixture import GaussianMixture\n",
        "\n",
        "gmmModel = GaussianMixture(n_components=3, # this is the number of clusters\n",
        "                         covariance_type='full', \n",
        "                         max_iter=100,\n",
        "                         n_init=1,\n",
        "                         init_params='kmeans',\n",
        "                         verbose=0,\n",
        "                         random_state=1\n",
        "                        )\n",
        "\n",
        "gmmClusters = gmmModel.fit(X_train)\n",
        "gmmLables = gmmModel.predict(X_test)"
      ],
      "execution_count": null,
      "outputs": []
    },
    {
      "cell_type": "code",
      "metadata": {
        "colab": {
          "base_uri": "https://localhost:8080/"
        },
        "id": "o_nEepuXJp7V",
        "outputId": "06dc9272-21cf-4786-eaf7-5437bd5adeae"
      },
      "source": [
        "gmmLables"
      ],
      "execution_count": null,
      "outputs": [
        {
          "output_type": "execute_result",
          "data": {
            "text/plain": [
              "array([1, 2, 2, 1, 0, 2, 0, 1, 1, 0, 2, 1, 0, 2, 2, 1, 2, 2, 1, 1, 2, 2,\n",
              "       2, 1, 0, 2, 1, 1, 2, 0])"
            ]
          },
          "metadata": {},
          "execution_count": 12
        }
      ]
    },
    {
      "cell_type": "markdown",
      "metadata": {
        "id": "4vwtSJPAjN08"
      },
      "source": [
        "Let us compute the value of np.sum(y_pred==y) / len(y_pred)"
      ]
    },
    {
      "cell_type": "code",
      "metadata": {
        "id": "s43eGRXrbgmY"
      },
      "source": [
        "y_pred = gmmLables"
      ],
      "execution_count": null,
      "outputs": []
    },
    {
      "cell_type": "code",
      "metadata": {
        "colab": {
          "base_uri": "https://localhost:8080/"
        },
        "id": "JdqM4xFbbYS-",
        "outputId": "3e4a7d14-8014-4f70-f209-e2ba4d4e4b64"
      },
      "source": [
        "np.sum(y_pred) / len(y_pred)"
      ],
      "execution_count": null,
      "outputs": [
        {
          "output_type": "execute_result",
          "data": {
            "text/plain": [
              "1.2333333333333334"
            ]
          },
          "metadata": {},
          "execution_count": 14
        }
      ]
    },
    {
      "cell_type": "markdown",
      "metadata": {
        "id": "0nKx6IkVjVSp"
      },
      "source": [
        "In this part of the notebook let us create a new dataset and work on it with k-means."
      ]
    },
    {
      "cell_type": "code",
      "metadata": {
        "id": "aehgpErQbvUl"
      },
      "source": [
        "from sklearn.datasets import make_blobs\n",
        "X_blob, y_blob = make_blobs(n_samples=2000,\n",
        "           centers = np.array(\n",
        "               [[ 0.2,  2.3],\n",
        "                [-1.5 ,  2.3],\n",
        "                [-2.8,  1.8],\n",
        "                [-2.8,  2.8],\n",
        "                [-2.8,  1.3]]),\n",
        "          cluster_std = np.array([0.4, 0.3, 0.1, 0.1, 0.1]))"
      ],
      "execution_count": null,
      "outputs": []
    },
    {
      "cell_type": "markdown",
      "metadata": {
        "id": "wjG4-FrljfsW"
      },
      "source": [
        "Let us plot the blobs generated:"
      ]
    },
    {
      "cell_type": "code",
      "metadata": {
        "colab": {
          "base_uri": "https://localhost:8080/",
          "height": 268
        },
        "id": "j0SQCU_fd1iF",
        "outputId": "472c242d-b642-47df-bb5a-b64a2803629b"
      },
      "source": [
        "a = plt.scatter(X_blob[:, 0], X_blob[:, 1], c=y_blob)"
      ],
      "execution_count": null,
      "outputs": [
        {
          "output_type": "display_data",
          "data": {
            "image/png": "[encoded data removed]",
            "text/plain": [
              "<Figure size 432x288 with 1 Axes>"
            ]
          },
          "metadata": {
            "needs_background": "light"
          }
        }
      ]
    },
    {
      "cell_type": "markdown",
      "metadata": {
        "id": "EQpLO86hjk2t"
      },
      "source": [
        "Let us train k-means on this dataset:"
      ]
    },
    {
      "cell_type": "code",
      "metadata": {
        "colab": {
          "base_uri": "https://localhost:8080/"
        },
        "id": "5qYyhQ_-nhrh",
        "outputId": "10cc2e90-979a-4b88-ecf0-c9493ef97486"
      },
      "source": [
        "from sklearn.cluster import KMeans\n",
        "\n",
        "km = KMeans(n_clusters=3, random_state=1)\n",
        "km.fit(X_blob)\n"
      ],
      "execution_count": null,
      "outputs": [
        {
          "output_type": "execute_result",
          "data": {
            "text/plain": [
              "KMeans(algorithm='auto', copy_x=True, init='k-means++', max_iter=300,\n",
              "       n_clusters=3, n_init=10, n_jobs=None, precompute_distances='auto',\n",
              "       random_state=1, tol=0.0001, verbose=0)"
            ]
          },
          "metadata": {},
          "execution_count": 17
        }
      ]
    },
    {
      "cell_type": "markdown",
      "metadata": {
        "id": "ObPGkVbNjqmg"
      },
      "source": [
        "We will use X_new to test and predict with our km model:"
      ]
    },
    {
      "cell_type": "code",
      "metadata": {
        "id": "CxZ-swWSoJfR"
      },
      "source": [
        "X_new = np.array([[0, 2], [3, 2], [-3, 3], [-3, 2.5]])"
      ],
      "execution_count": null,
      "outputs": []
    },
    {
      "cell_type": "code",
      "metadata": {
        "colab": {
          "base_uri": "https://localhost:8080/"
        },
        "id": "9BLszZ0ioYSI",
        "outputId": "08fac519-f52b-47d6-e09b-46d8ae5c9bbc"
      },
      "source": [
        "y_cluster_kmeans = km.predict(X_new)\n",
        "y_cluster_kmeans"
      ],
      "execution_count": null,
      "outputs": [
        {
          "output_type": "execute_result",
          "data": {
            "text/plain": [
              "array([1, 1, 2, 2], dtype=int32)"
            ]
          },
          "metadata": {},
          "execution_count": 19
        }
      ]
    },
    {
      "cell_type": "markdown",
      "metadata": {
        "id": "ps1MM0ENj2Wr"
      },
      "source": [
        "Let us plot the decision boundaries:"
      ]
    },
    {
      "cell_type": "code",
      "metadata": {
        "id": "_ViTkmbpyjSW"
      },
      "source": [
        "centers = km.cluster_centers_"
      ],
      "execution_count": null,
      "outputs": []
    },
    {
      "cell_type": "code",
      "metadata": {
        "colab": {
          "base_uri": "https://localhost:8080/",
          "height": 285
        },
        "id": "GiinJJX6ySQI",
        "outputId": "7397abf4-35fb-40e0-b4eb-4f0bd0a1367d"
      },
      "source": [
        "from scipy.spatial import Voronoi, voronoi_plot_2d\n",
        "\n",
        "voronoi = Voronoi(centers)\n",
        "voronoi_plot_2d(voronoi)\n",
        "plt.scatter(X_blob[:,0], X_blob[:,1], c = y_blob)"
      ],
      "execution_count": null,
      "outputs": [
        {
          "output_type": "execute_result",
          "data": {
            "text/plain": [
              "<matplotlib.collections.PathCollection at 0x7f97cc31a990>"
            ]
          },
          "metadata": {},
          "execution_count": 21
        },
        {
          "output_type": "display_data",
          "data": {
            "image/png": "[encoded data removed]",
            "text/plain": [
              "<Figure size 432x288 with 1 Axes>"
            ]
          },
          "metadata": {
            "needs_background": "light"
          }
        }
      ]
    },
    {
      "cell_type": "markdown",
      "metadata": {
        "id": "jSTxEr5dkeuc"
      },
      "source": [
        "Let us see the value of inertia for k = 3:"
      ]
    },
    {
      "cell_type": "code",
      "metadata": {
        "colab": {
          "base_uri": "https://localhost:8080/"
        },
        "id": "wAlJe_rpkYgY",
        "outputId": "4a155e47-bb76-4e78-a4cd-f33ae5603ac1"
      },
      "source": [
        "km = KMeans(n_clusters=3)\n",
        "km.fit_predict(X_blob)\n",
        "km.inertia_"
      ],
      "execution_count": null,
      "outputs": [
        {
          "output_type": "execute_result",
          "data": {
            "text/plain": [
              "644.6732592044764"
            ]
          },
          "metadata": {},
          "execution_count": 22
        }
      ]
    },
    {
      "cell_type": "markdown",
      "metadata": {
        "id": "8oqlUgEikmv3"
      },
      "source": [
        "Let us see the value of inertia at k = 8:"
      ]
    },
    {
      "cell_type": "code",
      "metadata": {
        "colab": {
          "base_uri": "https://localhost:8080/"
        },
        "id": "F4TPc9J9kZIC",
        "outputId": "84e9c076-4ac9-4d54-a11b-701b7f2eeb3f"
      },
      "source": [
        "km = KMeans(n_clusters=8)\n",
        "km.fit_predict(X_blob)\n",
        "km.inertia_"
      ],
      "execution_count": null,
      "outputs": [
        {
          "output_type": "execute_result",
          "data": {
            "text/plain": [
              "118.31463197397618"
            ]
          },
          "metadata": {},
          "execution_count": 23
        }
      ]
    },
    {
      "cell_type": "markdown",
      "metadata": {
        "id": "hA2qv5q0krkT"
      },
      "source": [
        "This implies that the inertia decreases as the number of clusters increases. As inertia is a measure of the spread of data, we would want it to be small. With respect to this model, we will choose k = 3 as the inertia isn't too large and k is pretty small."
      ]
    },
    {
      "cell_type": "markdown",
      "metadata": {
        "id": "JfIn_gh8j9iL"
      },
      "source": [
        "Let us plot the relationship between k and inertia for falues between 3 and 8."
      ]
    },
    {
      "cell_type": "code",
      "metadata": {
        "id": "L-HjwQ0tEsKv"
      },
      "source": [
        "def plotKvsInertia(X_data, column_indices, n_clusters=8, max_iter=300, tol=1e-04, init='k-means++', n_init=10, algorithm='auto'):\n",
        "    import matplotlib.pyplot as plt\n",
        "    inertia_values = []\n",
        "    for i in range(1, n_clusters+1):\n",
        "        km = KMeans(n_clusters=i, max_iter=max_iter, tol=tol, init=init, n_init=n_init, random_state=1, algorithm=algorithm)\n",
        "        km.fit_predict(X_data)\n",
        "        inertia_values.append(km.inertia_)\n",
        "    fig, ax = plt.subplots(figsize=(8, 6))\n",
        "    plt.plot(range(1, n_clusters+1), inertia_values)\n",
        "    plt.xlabel('No. of Clusters', fontsize=15)\n",
        "    plt.ylabel('Inertia', fontsize=15)\n",
        "    plt.grid()\n",
        "    plt.show()"
      ],
      "execution_count": null,
      "outputs": []
    },
    {
      "cell_type": "code",
      "metadata": {
        "colab": {
          "base_uri": "https://localhost:8080/",
          "height": 396
        },
        "id": "4Q2gm8ScEupm",
        "outputId": "23c4d5b1-322f-4002-fa53-a6321dc7e233"
      },
      "source": [
        "plotKvsInertia(X_blob, [0, 1])"
      ],
      "execution_count": null,
      "outputs": [
        {
          "output_type": "display_data",
          "data": {
            "image/png": "[encoded data removed]",
            "text/plain": [
              "<Figure size 576x432 with 1 Axes>"
            ]
          },
          "metadata": {
            "needs_background": "light"
          }
        }
      ]
    },
    {
      "cell_type": "markdown",
      "metadata": {
        "id": "pcSorrxFkHof"
      },
      "source": [
        "Here the value of k at the elbow is 3. We determine the elbow by finding the point after which the the curve decreases linearly."
      ]
    }
  ]
}