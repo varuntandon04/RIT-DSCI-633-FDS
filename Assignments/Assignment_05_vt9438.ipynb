{
  "nbformat": 4,
  "nbformat_minor": 0,
  "metadata": {
    "colab": {
      "name": "Assignment 05 vt9438.ipynb",
      "provenance": [],
      "collapsed_sections": []
    },
    "kernelspec": {
      "name": "python3",
      "display_name": "Python 3"
    },
    "language_info": {
      "name": "python"
    }
  },
  "cells": [
    {
      "cell_type": "markdown",
      "metadata": {
        "id": "ItfIFwPUIl0E"
      },
      "source": [
        "## Assignment 05\n",
        "Varun Tandon\n",
        "\n",
        "vt9438"
      ]
    },
    {
      "cell_type": "markdown",
      "metadata": {
        "id": "5bSxclPSNuuB"
      },
      "source": [
        "In this notebook, I prepare the MNIST data for a neural network model.\n",
        "\n",
        "The first model has three dense layers with different activation functions. However it does not yield the desired results on the test set.\n",
        "\n",
        "The second model is a simple CNN, as Conv2D layers work better with images. it has conv2d, max_pooling2d_4, flatten_4, dense_20, dropout_4, dense_21 layers. This model gives us a much better accuracy that we can use.\n",
        "\n",
        "\n",
        "*The steps 9, 10 are out of order as I perform them when I create the first model.*"
      ]
    },
    {
      "cell_type": "markdown",
      "metadata": {
        "id": "sqbixSR4J8vH"
      },
      "source": [
        "Step 0"
      ]
    },
    {
      "cell_type": "code",
      "metadata": {
        "id": "yD-Tdy5yhs2d"
      },
      "source": [
        "import pandas as pd\n",
        "import numpy as np\n",
        "from tensorflow import keras\n",
        "import tensorflow as tf\n",
        "from tensorflow.keras.optimizers import SGD\n",
        "import matplotlib.pyplot as plt\n",
        "import math\n",
        "from tensorflow.keras import backend as K\n",
        "\n",
        "%matplotlib inline\n"
      ],
      "execution_count": 192,
      "outputs": []
    },
    {
      "cell_type": "markdown",
      "metadata": {
        "id": "IvjbPEqWKEiW"
      },
      "source": [
        "Step 1"
      ]
    },
    {
      "cell_type": "code",
      "metadata": {
        "id": "okLmijGUxzqU"
      },
      "source": [
        "from keras.datasets import mnist\n",
        "data = mnist.load_data()"
      ],
      "execution_count": 193,
      "outputs": []
    },
    {
      "cell_type": "markdown",
      "metadata": {
        "id": "m-B2dlAyKIw-"
      },
      "source": [
        "Step 2, 3"
      ]
    },
    {
      "cell_type": "code",
      "metadata": {
        "id": "4TNWfQF7ytN0"
      },
      "source": [
        "(X_train, y_train), (X_test, y_test) = data"
      ],
      "execution_count": 194,
      "outputs": []
    },
    {
      "cell_type": "code",
      "metadata": {
        "colab": {
          "base_uri": "https://localhost:8080/"
        },
        "id": "Vy4pYTrhy5Mx",
        "outputId": "83cb4669-861b-4926-8c7e-32c0cc4844f4"
      },
      "source": [
        "X_train.shape"
      ],
      "execution_count": 195,
      "outputs": [
        {
          "output_type": "execute_result",
          "data": {
            "text/plain": [
              "(60000, 28, 28)"
            ]
          },
          "metadata": {},
          "execution_count": 195
        }
      ]
    },
    {
      "cell_type": "code",
      "metadata": {
        "colab": {
          "base_uri": "https://localhost:8080/"
        },
        "id": "0YNKcfbtz2C2",
        "outputId": "aa070786-6c17-4022-b1d9-9be18f88b2a5"
      },
      "source": [
        "X_train[0].shape"
      ],
      "execution_count": 196,
      "outputs": [
        {
          "output_type": "execute_result",
          "data": {
            "text/plain": [
              "(28, 28)"
            ]
          },
          "metadata": {},
          "execution_count": 196
        }
      ]
    },
    {
      "cell_type": "markdown",
      "metadata": {
        "id": "lz5zMsswOtpR"
      },
      "source": [
        "This shows us that the dataset contains 60,000 images each of size 28*28. Now let us see what an image looks like."
      ]
    },
    {
      "cell_type": "code",
      "metadata": {
        "colab": {
          "base_uri": "https://localhost:8080/",
          "height": 265
        },
        "id": "Coo7Redd0Bm3",
        "outputId": "55aee5bd-86b0-4774-e66a-dabe841a9930"
      },
      "source": [
        "testImage = X_train[0]\n",
        "fig = plt.figure\n",
        "plt.imshow(testImage, cmap='gray_r')\n",
        "plt.show()"
      ],
      "execution_count": 197,
      "outputs": [
        {
          "output_type": "display_data",
          "data": {
            "image/png": "[encoded data removed]",
            "text/plain": [
              "<Figure size 432x288 with 1 Axes>"
            ]
          },
          "metadata": {
            "needs_background": "light"
          }
        }
      ]
    },
    {
      "cell_type": "code",
      "metadata": {
        "colab": {
          "base_uri": "https://localhost:8080/",
          "height": 542
        },
        "id": "TzKVh6ni0nmn",
        "outputId": "2e285157-9937-41e0-a4d7-4cb76f49ae34"
      },
      "source": [
        "testImages = X_train[:15]\n",
        "labels = y_train[:15]\n",
        "rows = 3\n",
        "col = 5\n",
        "fig, axes = plt.subplots(rows, col, figsize =(8,10))\n",
        "\n",
        "for i in range(15):\n",
        "  ax = axes[i//col, i%col]\n",
        "  ax.imshow(testImages[i], cmap='gray_r')\n",
        "  ax.set_title('Lable: {}'.format(labels[i]))\n",
        "plt.show"
      ],
      "execution_count": 198,
      "outputs": [
        {
          "output_type": "execute_result",
          "data": {
            "text/plain": [
              "<function matplotlib.pyplot.show>"
            ]
          },
          "metadata": {},
          "execution_count": 198
        },
        {
          "output_type": "display_data",
          "data": {
            "image/png": "[encoded data removed]",
            "text/plain": [
              "<Figure size 576x720 with 15 Axes>"
            ]
          },
          "metadata": {
            "needs_background": "light"
          }
        }
      ]
    },
    {
      "cell_type": "markdown",
      "metadata": {
        "id": "kedtgz8QO-rs"
      },
      "source": [
        "Here, we need to prepare the data for the first model. The first dense layer expects an object of size 28*28. With respect to the target value, we don't want the model to get confused with the labels \"1-10\" with the values 1-10. "
      ]
    },
    {
      "cell_type": "code",
      "metadata": {
        "id": "4YXko1nu08OR"
      },
      "source": [
        "# train set / data \n",
        "X_train = X_train.reshape(-1, 28*28)\n",
        "X_train = X_train.astype('float32') / 255\n",
        "\n",
        "# train set / target \n",
        "y_train = tf.keras.utils.to_categorical(y_train , num_classes=10)"
      ],
      "execution_count": 199,
      "outputs": []
    },
    {
      "cell_type": "code",
      "metadata": {
        "colab": {
          "base_uri": "https://localhost:8080/"
        },
        "id": "cihPMsbd3TK0",
        "outputId": "a5fff226-48fe-4b41-c307-eeb96e6809de"
      },
      "source": [
        "print(X_train.shape)\n",
        "print(y_train.shape)"
      ],
      "execution_count": 200,
      "outputs": [
        {
          "output_type": "stream",
          "name": "stdout",
          "text": [
            "(60000, 784)\n",
            "(60000, 10)\n"
          ]
        }
      ]
    },
    {
      "cell_type": "markdown",
      "metadata": {
        "id": "3jlWx2FWPaV_"
      },
      "source": [
        "Splitting the data into training and validation:"
      ]
    },
    {
      "cell_type": "code",
      "metadata": {
        "id": "vSLAi5mGB9G9"
      },
      "source": [
        "from sklearn.model_selection import train_test_split\n",
        "X_train, X_val, y_train, y_val = train_test_split(X_train, y_train, test_size=0.20, random_state=42)"
      ],
      "execution_count": 201,
      "outputs": []
    },
    {
      "cell_type": "code",
      "metadata": {
        "colab": {
          "base_uri": "https://localhost:8080/"
        },
        "id": "nyyir_EcCVRv",
        "outputId": "5da11e49-b19f-4d64-9902-91d6fd1adbc8"
      },
      "source": [
        "print(X_train.shape)\n",
        "print(y_train.shape)"
      ],
      "execution_count": 202,
      "outputs": [
        {
          "output_type": "stream",
          "name": "stdout",
          "text": [
            "(48000, 784)\n",
            "(48000, 10)\n"
          ]
        }
      ]
    },
    {
      "cell_type": "markdown",
      "metadata": {
        "id": "GYPohIMcKRs1"
      },
      "source": [
        "Step 4, 5"
      ]
    },
    {
      "cell_type": "code",
      "metadata": {
        "id": "_XXdGpFpwD88"
      },
      "source": [
        "epoch = 100\n",
        "lr = 0.01\n",
        "sgd = SGD(lr)"
      ],
      "execution_count": 203,
      "outputs": []
    },
    {
      "cell_type": "markdown",
      "metadata": {
        "id": "QFHiUDtQPiku"
      },
      "source": [
        "The first model:"
      ]
    },
    {
      "cell_type": "code",
      "metadata": {
        "colab": {
          "base_uri": "https://localhost:8080/"
        },
        "id": "58ic0hbr3Wnj",
        "outputId": "7ccbf48a-5775-4672-8cde-82814ce3ca3b"
      },
      "source": [
        "from keras.models import Sequential\n",
        "from keras.layers import Dense\n",
        "model = Sequential()\n",
        "model.add(Dense(32, input_dim = 28 * 28, activation= 'sigmoid'))\n",
        "model.add(Dense(64, activation = 'relu'))\n",
        "model.add(Dense(10, activation = 'softmax'))\n",
        "model.summary()"
      ],
      "execution_count": 204,
      "outputs": [
        {
          "output_type": "stream",
          "name": "stdout",
          "text": [
            "Model: \"sequential_11\"\n",
            "_________________________________________________________________\n",
            "Layer (type)                 Output Shape              Param #   \n",
            "=================================================================\n",
            "dense_22 (Dense)             (None, 32)                25120     \n",
            "_________________________________________________________________\n",
            "dense_23 (Dense)             (None, 64)                2112      \n",
            "_________________________________________________________________\n",
            "dense_24 (Dense)             (None, 10)                650       \n",
            "=================================================================\n",
            "Total params: 27,882\n",
            "Trainable params: 27,882\n",
            "Non-trainable params: 0\n",
            "_________________________________________________________________\n"
          ]
        }
      ]
    },
    {
      "cell_type": "markdown",
      "metadata": {
        "id": "Z4ubbddDP2rS"
      },
      "source": [
        "Using ExponentialDecay():"
      ]
    },
    {
      "cell_type": "code",
      "metadata": {
        "id": "wCsbBetd6SS3"
      },
      "source": [
        "lr_schedule = tf.keras.optimizers.schedules.ExponentialDecay(\n",
        "    0.1,\n",
        "    decay_steps=100000,\n",
        "    decay_rate=0.96,\n",
        "    staircase=False)"
      ],
      "execution_count": 205,
      "outputs": []
    },
    {
      "cell_type": "markdown",
      "metadata": {
        "id": "oCMSDlEMP5cY"
      },
      "source": [
        "printlr and updatelr will be used as callbacks to monitor the lr during the running of the models."
      ]
    },
    {
      "cell_type": "code",
      "metadata": {
        "id": "TTEME6LNEZw7"
      },
      "source": [
        "class printlearningrate(tf.keras.callbacks.Callback):\n",
        "    def on_epoch_end(self, epoch, logs={}):\n",
        "        optimizer = self.model.optimizer\n",
        "        lr = K.eval(optimizer.lr)\n",
        "        Epoch_count = epoch + 1\n",
        "        print('\\n', \"Epoch:\", Epoch_count, ', LR: {:.2f}'.format(lr))\n",
        "\n",
        "printlr = printlearningrate() "
      ],
      "execution_count": 206,
      "outputs": []
    },
    {
      "cell_type": "code",
      "metadata": {
        "id": "EXn3KfaUwf55"
      },
      "source": [
        "updatelr = tf.keras.callbacks.LearningRateScheduler(lr_schedule)"
      ],
      "execution_count": 207,
      "outputs": []
    },
    {
      "cell_type": "markdown",
      "metadata": {
        "id": "GClkqm6fQICH"
      },
      "source": [
        "We will compare three kinds of losses: Categorical Crossentropy, Binary Crossentropy and Mean Squared Error Losses."
      ]
    },
    {
      "cell_type": "code",
      "metadata": {
        "id": "W6yUOVJE68zw"
      },
      "source": [
        "model.compile(loss=keras.losses.categorical_crossentropy,\n",
        "              optimizer=sgd,\n",
        "              metrics=['accuracy'])"
      ],
      "execution_count": 208,
      "outputs": []
    },
    {
      "cell_type": "markdown",
      "metadata": {
        "id": "somDy7VWM5XB"
      },
      "source": [
        "Step 10"
      ]
    },
    {
      "cell_type": "code",
      "metadata": {
        "id": "4sluf16c9f-E"
      },
      "source": [
        "checkpoint_filepath = '/tmp/checkpoint'\n",
        "model_checkpoint_callback = keras.callbacks.ModelCheckpoint(\n",
        "    filepath=checkpoint_filepath,\n",
        "    save_weights_only=True,\n",
        "    monitor='val_accuracy',\n",
        "    mode='max',\n",
        "    save_best_only=True)"
      ],
      "execution_count": 209,
      "outputs": []
    },
    {
      "cell_type": "markdown",
      "metadata": {
        "id": "s03LEzVZLqsL"
      },
      "source": [
        "Step 9"
      ]
    },
    {
      "cell_type": "code",
      "metadata": {
        "id": "mTeSzQrXDukC"
      },
      "source": [
        "earlyStoppingCallback = tf.keras.callbacks.EarlyStopping(monitor='val_accuracy', patience=50)"
      ],
      "execution_count": 210,
      "outputs": []
    },
    {
      "cell_type": "code",
      "metadata": {
        "id": "ywgs2Errw2eo"
      },
      "source": [
        "callback_list = [model_checkpoint_callback, earlyStoppingCallback, printlr, updatelr]"
      ],
      "execution_count": 211,
      "outputs": []
    },
    {
      "cell_type": "markdown",
      "metadata": {
        "id": "avpft8kzQEb0"
      },
      "source": [
        "Model with Categorical Crossentropy Loss:"
      ]
    },
    {
      "cell_type": "code",
      "metadata": {
        "colab": {
          "base_uri": "https://localhost:8080/"
        },
        "id": "nsCNCXjE-1mY",
        "outputId": "fe82a00b-b449-43b7-8dc3-972501c671bf"
      },
      "source": [
        "training_history_categorical_crossentropy = model.fit(\n",
        "    X_train,\n",
        "    y_train,\n",
        "    epochs=epoch,\n",
        "    verbose=1,\n",
        "    validation_data=(X_val, y_val),\n",
        "    callbacks=callback_list\n",
        ")"
      ],
      "execution_count": 212,
      "outputs": [
        {
          "output_type": "stream",
          "name": "stdout",
          "text": [
            "Epoch 1/100\n",
            "1500/1500 [==============================] - 3s 2ms/step - loss: 0.5445 - accuracy: 0.8476 - val_loss: 0.2856 - val_accuracy: 0.9178\n",
            "\n",
            " Epoch: 1 , LR: 0.10\n",
            "Epoch 2/100\n",
            "1500/1500 [==============================] - 3s 2ms/step - loss: 0.2583 - accuracy: 0.9239 - val_loss: 0.2298 - val_accuracy: 0.9348\n",
            "\n",
            " Epoch: 2 , LR: 0.10\n",
            "Epoch 3/100\n",
            "1500/1500 [==============================] - 2s 2ms/step - loss: 0.1995 - accuracy: 0.9423 - val_loss: 0.1865 - val_accuracy: 0.9467\n",
            "\n",
            " Epoch: 3 , LR: 0.10\n",
            "Epoch 4/100\n",
            "1500/1500 [==============================] - 3s 2ms/step - loss: 0.1676 - accuracy: 0.9505 - val_loss: 0.1766 - val_accuracy: 0.9498\n",
            "\n",
            " Epoch: 4 , LR: 0.10\n",
            "Epoch 5/100\n",
            "1500/1500 [==============================] - 3s 2ms/step - loss: 0.1455 - accuracy: 0.9575 - val_loss: 0.1529 - val_accuracy: 0.9549\n",
            "\n",
            " Epoch: 5 , LR: 0.10\n",
            "Epoch 6/100\n",
            "1500/1500 [==============================] - 2s 2ms/step - loss: 0.1291 - accuracy: 0.9616 - val_loss: 0.1454 - val_accuracy: 0.9553\n",
            "\n",
            " Epoch: 6 , LR: 0.10\n",
            "Epoch 7/100\n",
            "1500/1500 [==============================] - 3s 2ms/step - loss: 0.1153 - accuracy: 0.9655 - val_loss: 0.1380 - val_accuracy: 0.9586\n",
            "\n",
            " Epoch: 7 , LR: 0.10\n",
            "Epoch 8/100\n",
            "1500/1500 [==============================] - 3s 2ms/step - loss: 0.1056 - accuracy: 0.9679 - val_loss: 0.1365 - val_accuracy: 0.9586\n",
            "\n",
            " Epoch: 8 , LR: 0.10\n",
            "Epoch 9/100\n",
            "1500/1500 [==============================] - 3s 2ms/step - loss: 0.0973 - accuracy: 0.9709 - val_loss: 0.1306 - val_accuracy: 0.9601\n",
            "\n",
            " Epoch: 9 , LR: 0.10\n",
            "Epoch 10/100\n",
            "1500/1500 [==============================] - 2s 2ms/step - loss: 0.0901 - accuracy: 0.9724 - val_loss: 0.1159 - val_accuracy: 0.9635\n",
            "\n",
            " Epoch: 10 , LR: 0.10\n",
            "Epoch 11/100\n",
            "1500/1500 [==============================] - 2s 2ms/step - loss: 0.0837 - accuracy: 0.9747 - val_loss: 0.1250 - val_accuracy: 0.9613\n",
            "\n",
            " Epoch: 11 , LR: 0.10\n",
            "Epoch 12/100\n",
            "1500/1500 [==============================] - 3s 2ms/step - loss: 0.0785 - accuracy: 0.9762 - val_loss: 0.1157 - val_accuracy: 0.9650\n",
            "\n",
            " Epoch: 12 , LR: 0.10\n",
            "Epoch 13/100\n",
            "1500/1500 [==============================] - 3s 2ms/step - loss: 0.0725 - accuracy: 0.9779 - val_loss: 0.1375 - val_accuracy: 0.9611\n",
            "\n",
            " Epoch: 13 , LR: 0.10\n",
            "Epoch 14/100\n",
            "1500/1500 [==============================] - 3s 2ms/step - loss: 0.0693 - accuracy: 0.9786 - val_loss: 0.1144 - val_accuracy: 0.9659\n",
            "\n",
            " Epoch: 14 , LR: 0.10\n",
            "Epoch 15/100\n",
            "1500/1500 [==============================] - 2s 2ms/step - loss: 0.0663 - accuracy: 0.9792 - val_loss: 0.1278 - val_accuracy: 0.9628\n",
            "\n",
            " Epoch: 15 , LR: 0.10\n",
            "Epoch 16/100\n",
            "1500/1500 [==============================] - 2s 2ms/step - loss: 0.0626 - accuracy: 0.9810 - val_loss: 0.1129 - val_accuracy: 0.9671\n",
            "\n",
            " Epoch: 16 , LR: 0.10\n",
            "Epoch 17/100\n",
            "1500/1500 [==============================] - 3s 2ms/step - loss: 0.0587 - accuracy: 0.9824 - val_loss: 0.1150 - val_accuracy: 0.9662\n",
            "\n",
            " Epoch: 17 , LR: 0.10\n",
            "Epoch 18/100\n",
            "1500/1500 [==============================] - 3s 2ms/step - loss: 0.0566 - accuracy: 0.9824 - val_loss: 0.1177 - val_accuracy: 0.9675\n",
            "\n",
            " Epoch: 18 , LR: 0.10\n",
            "Epoch 19/100\n",
            "1500/1500 [==============================] - 3s 2ms/step - loss: 0.0533 - accuracy: 0.9838 - val_loss: 0.1169 - val_accuracy: 0.9674\n",
            "\n",
            " Epoch: 19 , LR: 0.10\n",
            "Epoch 20/100\n",
            "1500/1500 [==============================] - 2s 2ms/step - loss: 0.0501 - accuracy: 0.9852 - val_loss: 0.1261 - val_accuracy: 0.9638\n",
            "\n",
            " Epoch: 20 , LR: 0.10\n",
            "Epoch 21/100\n",
            "1500/1500 [==============================] - 3s 2ms/step - loss: 0.0483 - accuracy: 0.9847 - val_loss: 0.1124 - val_accuracy: 0.9689\n",
            "\n",
            " Epoch: 21 , LR: 0.10\n",
            "Epoch 22/100\n",
            "1500/1500 [==============================] - 3s 2ms/step - loss: 0.0457 - accuracy: 0.9859 - val_loss: 0.1205 - val_accuracy: 0.9660\n",
            "\n",
            " Epoch: 22 , LR: 0.10\n",
            "Epoch 23/100\n",
            "1500/1500 [==============================] - 3s 2ms/step - loss: 0.0433 - accuracy: 0.9868 - val_loss: 0.1174 - val_accuracy: 0.9682\n",
            "\n",
            " Epoch: 23 , LR: 0.10\n",
            "Epoch 24/100\n",
            "1500/1500 [==============================] - 2s 2ms/step - loss: 0.0416 - accuracy: 0.9877 - val_loss: 0.1229 - val_accuracy: 0.9675\n",
            "\n",
            " Epoch: 24 , LR: 0.10\n",
            "Epoch 25/100\n",
            "1500/1500 [==============================] - 2s 2ms/step - loss: 0.0398 - accuracy: 0.9878 - val_loss: 0.1172 - val_accuracy: 0.9693\n",
            "\n",
            " Epoch: 25 , LR: 0.10\n",
            "Epoch 26/100\n",
            "1500/1500 [==============================] - 3s 2ms/step - loss: 0.0377 - accuracy: 0.9887 - val_loss: 0.1268 - val_accuracy: 0.9645\n",
            "\n",
            " Epoch: 26 , LR: 0.10\n",
            "Epoch 27/100\n",
            "1500/1500 [==============================] - 3s 2ms/step - loss: 0.0352 - accuracy: 0.9894 - val_loss: 0.1245 - val_accuracy: 0.9679\n",
            "\n",
            " Epoch: 27 , LR: 0.10\n",
            "Epoch 28/100\n",
            "1500/1500 [==============================] - 3s 2ms/step - loss: 0.0350 - accuracy: 0.9890 - val_loss: 0.1322 - val_accuracy: 0.9655\n",
            "\n",
            " Epoch: 28 , LR: 0.10\n",
            "Epoch 29/100\n",
            "1500/1500 [==============================] - 3s 2ms/step - loss: 0.0327 - accuracy: 0.9901 - val_loss: 0.1235 - val_accuracy: 0.9681\n",
            "\n",
            " Epoch: 29 , LR: 0.10\n",
            "Epoch 30/100\n",
            "1500/1500 [==============================] - 3s 2ms/step - loss: 0.0308 - accuracy: 0.9904 - val_loss: 0.1201 - val_accuracy: 0.9696\n",
            "\n",
            " Epoch: 30 , LR: 0.10\n",
            "Epoch 31/100\n",
            "1500/1500 [==============================] - 2s 2ms/step - loss: 0.0290 - accuracy: 0.9913 - val_loss: 0.1226 - val_accuracy: 0.9689\n",
            "\n",
            " Epoch: 31 , LR: 0.10\n",
            "Epoch 32/100\n",
            "1500/1500 [==============================] - 3s 2ms/step - loss: 0.0276 - accuracy: 0.9922 - val_loss: 0.1250 - val_accuracy: 0.9680\n",
            "\n",
            " Epoch: 32 , LR: 0.10\n",
            "Epoch 33/100\n",
            "1500/1500 [==============================] - 3s 2ms/step - loss: 0.0268 - accuracy: 0.9921 - val_loss: 0.1266 - val_accuracy: 0.9690\n",
            "\n",
            " Epoch: 33 , LR: 0.10\n",
            "Epoch 34/100\n",
            "1500/1500 [==============================] - 3s 2ms/step - loss: 0.0255 - accuracy: 0.9924 - val_loss: 0.1308 - val_accuracy: 0.9677\n",
            "\n",
            " Epoch: 34 , LR: 0.10\n",
            "Epoch 35/100\n",
            "1500/1500 [==============================] - 3s 2ms/step - loss: 0.0237 - accuracy: 0.9931 - val_loss: 0.1305 - val_accuracy: 0.9678\n",
            "\n",
            " Epoch: 35 , LR: 0.10\n",
            "Epoch 36/100\n",
            "1500/1500 [==============================] - 3s 2ms/step - loss: 0.0228 - accuracy: 0.9936 - val_loss: 0.1418 - val_accuracy: 0.9663\n",
            "\n",
            " Epoch: 36 , LR: 0.10\n",
            "Epoch 37/100\n",
            "1500/1500 [==============================] - 3s 2ms/step - loss: 0.0220 - accuracy: 0.9939 - val_loss: 0.1312 - val_accuracy: 0.9697\n",
            "\n",
            " Epoch: 37 , LR: 0.10\n",
            "Epoch 38/100\n",
            "1500/1500 [==============================] - 2s 2ms/step - loss: 0.0198 - accuracy: 0.9947 - val_loss: 0.1392 - val_accuracy: 0.9673\n",
            "\n",
            " Epoch: 38 , LR: 0.10\n",
            "Epoch 39/100\n",
            "1500/1500 [==============================] - 3s 2ms/step - loss: 0.0190 - accuracy: 0.9947 - val_loss: 0.1365 - val_accuracy: 0.9693\n",
            "\n",
            " Epoch: 39 , LR: 0.10\n",
            "Epoch 40/100\n",
            "1500/1500 [==============================] - 2s 2ms/step - loss: 0.0189 - accuracy: 0.9950 - val_loss: 0.1409 - val_accuracy: 0.9676\n",
            "\n",
            " Epoch: 40 , LR: 0.10\n",
            "Epoch 41/100\n",
            "1500/1500 [==============================] - 2s 2ms/step - loss: 0.0173 - accuracy: 0.9951 - val_loss: 0.1382 - val_accuracy: 0.9682\n",
            "\n",
            " Epoch: 41 , LR: 0.10\n",
            "Epoch 42/100\n",
            "1500/1500 [==============================] - 2s 2ms/step - loss: 0.0158 - accuracy: 0.9959 - val_loss: 0.1527 - val_accuracy: 0.9663\n",
            "\n",
            " Epoch: 42 , LR: 0.10\n",
            "Epoch 43/100\n",
            "1500/1500 [==============================] - 2s 2ms/step - loss: 0.0154 - accuracy: 0.9961 - val_loss: 0.1449 - val_accuracy: 0.9672\n",
            "\n",
            " Epoch: 43 , LR: 0.10\n",
            "Epoch 44/100\n",
            "1500/1500 [==============================] - 3s 2ms/step - loss: 0.0149 - accuracy: 0.9961 - val_loss: 0.1456 - val_accuracy: 0.9681\n",
            "\n",
            " Epoch: 44 , LR: 0.10\n",
            "Epoch 45/100\n",
            "1500/1500 [==============================] - 3s 2ms/step - loss: 0.0137 - accuracy: 0.9967 - val_loss: 0.1486 - val_accuracy: 0.9676\n",
            "\n",
            " Epoch: 45 , LR: 0.10\n",
            "Epoch 46/100\n",
            "1500/1500 [==============================] - 2s 2ms/step - loss: 0.0129 - accuracy: 0.9967 - val_loss: 0.1576 - val_accuracy: 0.9667\n",
            "\n",
            " Epoch: 46 , LR: 0.10\n",
            "Epoch 47/100\n",
            "1500/1500 [==============================] - 3s 2ms/step - loss: 0.0121 - accuracy: 0.9972 - val_loss: 0.1477 - val_accuracy: 0.9687\n",
            "\n",
            " Epoch: 47 , LR: 0.10\n",
            "Epoch 48/100\n",
            "1500/1500 [==============================] - 3s 2ms/step - loss: 0.0107 - accuracy: 0.9979 - val_loss: 0.1604 - val_accuracy: 0.9670\n",
            "\n",
            " Epoch: 48 , LR: 0.10\n",
            "Epoch 49/100\n",
            "1500/1500 [==============================] - 3s 2ms/step - loss: 0.0101 - accuracy: 0.9979 - val_loss: 0.1532 - val_accuracy: 0.9682\n",
            "\n",
            " Epoch: 49 , LR: 0.10\n",
            "Epoch 50/100\n",
            "1500/1500 [==============================] - 3s 2ms/step - loss: 0.0093 - accuracy: 0.9982 - val_loss: 0.1537 - val_accuracy: 0.9683\n",
            "\n",
            " Epoch: 50 , LR: 0.10\n",
            "Epoch 51/100\n",
            "1500/1500 [==============================] - 3s 2ms/step - loss: 0.0084 - accuracy: 0.9988 - val_loss: 0.1563 - val_accuracy: 0.9679\n",
            "\n",
            " Epoch: 51 , LR: 0.10\n",
            "Epoch 52/100\n",
            "1500/1500 [==============================] - 2s 2ms/step - loss: 0.0079 - accuracy: 0.9988 - val_loss: 0.1571 - val_accuracy: 0.9690\n",
            "\n",
            " Epoch: 52 , LR: 0.10\n",
            "Epoch 53/100\n",
            "1500/1500 [==============================] - 3s 2ms/step - loss: 0.0077 - accuracy: 0.9987 - val_loss: 0.1612 - val_accuracy: 0.9678\n",
            "\n",
            " Epoch: 53 , LR: 0.10\n",
            "Epoch 54/100\n",
            "1500/1500 [==============================] - 3s 2ms/step - loss: 0.0073 - accuracy: 0.9987 - val_loss: 0.1610 - val_accuracy: 0.9687\n",
            "\n",
            " Epoch: 54 , LR: 0.10\n",
            "Epoch 55/100\n",
            "1500/1500 [==============================] - 3s 2ms/step - loss: 0.0067 - accuracy: 0.9992 - val_loss: 0.1631 - val_accuracy: 0.9687\n",
            "\n",
            " Epoch: 55 , LR: 0.10\n",
            "Epoch 56/100\n",
            "1500/1500 [==============================] - 3s 2ms/step - loss: 0.0061 - accuracy: 0.9992 - val_loss: 0.1602 - val_accuracy: 0.9690\n",
            "\n",
            " Epoch: 56 , LR: 0.10\n",
            "Epoch 57/100\n",
            "1500/1500 [==============================] - 3s 2ms/step - loss: 0.0058 - accuracy: 0.9994 - val_loss: 0.1643 - val_accuracy: 0.9694\n",
            "\n",
            " Epoch: 57 , LR: 0.10\n",
            "Epoch 58/100\n",
            "1500/1500 [==============================] - 2s 2ms/step - loss: 0.0053 - accuracy: 0.9995 - val_loss: 0.1657 - val_accuracy: 0.9686\n",
            "\n",
            " Epoch: 58 , LR: 0.10\n",
            "Epoch 59/100\n",
            "1500/1500 [==============================] - 3s 2ms/step - loss: 0.0050 - accuracy: 0.9995 - val_loss: 0.1670 - val_accuracy: 0.9679\n",
            "\n",
            " Epoch: 59 , LR: 0.10\n",
            "Epoch 60/100\n",
            "1500/1500 [==============================] - 3s 2ms/step - loss: 0.0046 - accuracy: 0.9997 - val_loss: 0.1688 - val_accuracy: 0.9690\n",
            "\n",
            " Epoch: 60 , LR: 0.10\n",
            "Epoch 61/100\n",
            "1500/1500 [==============================] - 3s 2ms/step - loss: 0.0042 - accuracy: 0.9998 - val_loss: 0.1694 - val_accuracy: 0.9696\n",
            "\n",
            " Epoch: 61 , LR: 0.10\n",
            "Epoch 62/100\n",
            "1500/1500 [==============================] - 3s 2ms/step - loss: 0.0040 - accuracy: 0.9997 - val_loss: 0.1697 - val_accuracy: 0.9688\n",
            "\n",
            " Epoch: 62 , LR: 0.10\n",
            "Epoch 63/100\n",
            "1500/1500 [==============================] - 3s 2ms/step - loss: 0.0039 - accuracy: 0.9997 - val_loss: 0.1721 - val_accuracy: 0.9693\n",
            "\n",
            " Epoch: 63 , LR: 0.10\n",
            "Epoch 64/100\n",
            "1500/1500 [==============================] - 2s 2ms/step - loss: 0.0034 - accuracy: 0.9998 - val_loss: 0.1717 - val_accuracy: 0.9689\n",
            "\n",
            " Epoch: 64 , LR: 0.10\n",
            "Epoch 65/100\n",
            "1500/1500 [==============================] - 3s 2ms/step - loss: 0.0032 - accuracy: 0.9999 - val_loss: 0.1725 - val_accuracy: 0.9682\n",
            "\n",
            " Epoch: 65 , LR: 0.10\n",
            "Epoch 66/100\n",
            "1500/1500 [==============================] - 3s 2ms/step - loss: 0.0031 - accuracy: 0.9999 - val_loss: 0.1738 - val_accuracy: 0.9685\n",
            "\n",
            " Epoch: 66 , LR: 0.10\n",
            "Epoch 67/100\n",
            "1500/1500 [==============================] - 3s 2ms/step - loss: 0.0029 - accuracy: 0.9999 - val_loss: 0.1732 - val_accuracy: 0.9693\n",
            "\n",
            " Epoch: 67 , LR: 0.10\n",
            "Epoch 68/100\n",
            "1500/1500 [==============================] - 3s 2ms/step - loss: 0.0027 - accuracy: 0.9999 - val_loss: 0.1779 - val_accuracy: 0.9689\n",
            "\n",
            " Epoch: 68 , LR: 0.10\n",
            "Epoch 69/100\n",
            "1500/1500 [==============================] - 3s 2ms/step - loss: 0.0025 - accuracy: 0.9999 - val_loss: 0.1775 - val_accuracy: 0.9685\n",
            "\n",
            " Epoch: 69 , LR: 0.10\n",
            "Epoch 70/100\n",
            "1500/1500 [==============================] - 3s 2ms/step - loss: 0.0025 - accuracy: 1.0000 - val_loss: 0.1793 - val_accuracy: 0.9687\n",
            "\n",
            " Epoch: 70 , LR: 0.10\n",
            "Epoch 71/100\n",
            "1500/1500 [==============================] - 3s 2ms/step - loss: 0.0024 - accuracy: 0.9999 - val_loss: 0.1808 - val_accuracy: 0.9687\n",
            "\n",
            " Epoch: 71 , LR: 0.10\n",
            "Epoch 72/100\n",
            "1500/1500 [==============================] - 2s 2ms/step - loss: 0.0023 - accuracy: 1.0000 - val_loss: 0.1804 - val_accuracy: 0.9690\n",
            "\n",
            " Epoch: 72 , LR: 0.10\n",
            "Epoch 73/100\n",
            "1500/1500 [==============================] - 3s 2ms/step - loss: 0.0021 - accuracy: 1.0000 - val_loss: 0.1821 - val_accuracy: 0.9683\n",
            "\n",
            " Epoch: 73 , LR: 0.10\n",
            "Epoch 74/100\n",
            "1500/1500 [==============================] - 3s 2ms/step - loss: 0.0020 - accuracy: 1.0000 - val_loss: 0.1821 - val_accuracy: 0.9690\n",
            "\n",
            " Epoch: 74 , LR: 0.10\n",
            "Epoch 75/100\n",
            "1500/1500 [==============================] - 3s 2ms/step - loss: 0.0020 - accuracy: 1.0000 - val_loss: 0.1825 - val_accuracy: 0.9691\n",
            "\n",
            " Epoch: 75 , LR: 0.10\n",
            "Epoch 76/100\n",
            "1500/1500 [==============================] - 2s 2ms/step - loss: 0.0020 - accuracy: 0.9999 - val_loss: 0.1832 - val_accuracy: 0.9697\n",
            "\n",
            " Epoch: 76 , LR: 0.10\n",
            "Epoch 77/100\n",
            "1500/1500 [==============================] - 3s 2ms/step - loss: 0.0018 - accuracy: 1.0000 - val_loss: 0.1848 - val_accuracy: 0.9691\n",
            "\n",
            " Epoch: 77 , LR: 0.10\n",
            "Epoch 78/100\n",
            "1500/1500 [==============================] - 3s 2ms/step - loss: 0.0017 - accuracy: 1.0000 - val_loss: 0.1862 - val_accuracy: 0.9690\n",
            "\n",
            " Epoch: 78 , LR: 0.10\n",
            "Epoch 79/100\n",
            "1500/1500 [==============================] - 2s 2ms/step - loss: 0.0017 - accuracy: 1.0000 - val_loss: 0.1878 - val_accuracy: 0.9683\n",
            "\n",
            " Epoch: 79 , LR: 0.10\n",
            "Epoch 80/100\n",
            "1500/1500 [==============================] - 3s 2ms/step - loss: 0.0017 - accuracy: 1.0000 - val_loss: 0.1897 - val_accuracy: 0.9688\n",
            "\n",
            " Epoch: 80 , LR: 0.10\n",
            "Epoch 81/100\n",
            "1500/1500 [==============================] - 3s 2ms/step - loss: 0.0016 - accuracy: 1.0000 - val_loss: 0.1897 - val_accuracy: 0.9685\n",
            "\n",
            " Epoch: 81 , LR: 0.10\n",
            "Epoch 82/100\n",
            "1500/1500 [==============================] - 3s 2ms/step - loss: 0.0015 - accuracy: 1.0000 - val_loss: 0.1916 - val_accuracy: 0.9684\n",
            "\n",
            " Epoch: 82 , LR: 0.10\n",
            "Epoch 83/100\n",
            "1500/1500 [==============================] - 3s 2ms/step - loss: 0.0015 - accuracy: 1.0000 - val_loss: 0.1921 - val_accuracy: 0.9685\n",
            "\n",
            " Epoch: 83 , LR: 0.10\n",
            "Epoch 84/100\n",
            "1500/1500 [==============================] - 3s 2ms/step - loss: 0.0015 - accuracy: 1.0000 - val_loss: 0.1922 - val_accuracy: 0.9685\n",
            "\n",
            " Epoch: 84 , LR: 0.10\n",
            "Epoch 85/100\n",
            "1500/1500 [==============================] - 2s 2ms/step - loss: 0.0014 - accuracy: 1.0000 - val_loss: 0.1925 - val_accuracy: 0.9688\n",
            "\n",
            " Epoch: 85 , LR: 0.10\n",
            "Epoch 86/100\n",
            "1500/1500 [==============================] - 2s 2ms/step - loss: 0.0014 - accuracy: 1.0000 - val_loss: 0.1930 - val_accuracy: 0.9682\n",
            "\n",
            " Epoch: 86 , LR: 0.10\n",
            "Epoch 87/100\n",
            "1500/1500 [==============================] - 2s 2ms/step - loss: 0.0014 - accuracy: 1.0000 - val_loss: 0.1946 - val_accuracy: 0.9682\n",
            "\n",
            " Epoch: 87 , LR: 0.10\n"
          ]
        }
      ]
    },
    {
      "cell_type": "markdown",
      "metadata": {
        "id": "JEid7X-sL3iD"
      },
      "source": [
        "Step 6"
      ]
    },
    {
      "cell_type": "code",
      "metadata": {
        "colab": {
          "base_uri": "https://localhost:8080/",
          "height": 312
        },
        "id": "a_YFLgXz5upV",
        "outputId": "cded34d9-a9cf-42c3-fdba-ca16aa9a7ef4"
      },
      "source": [
        "plt.xlabel(\"Learning rate\")\n",
        "plt.ylabel(\"Loss\")\n",
        "plt.title('lr vs loss for model with loss as categorical loss')\n",
        "plt.plot(training_history_categorical_crossentropy.history['lr'], training_history_categorical_crossentropy.history['loss'])"
      ],
      "execution_count": 213,
      "outputs": [
        {
          "output_type": "execute_result",
          "data": {
            "text/plain": [
              "[<matplotlib.lines.Line2D at 0x7f6cc5d86950>]"
            ]
          },
          "metadata": {},
          "execution_count": 213
        },
        {
          "output_type": "display_data",
          "data": {
            "image/png": "[encoded data removed]",
            "text/plain": [
              "<Figure size 432x288 with 1 Axes>"
            ]
          },
          "metadata": {
            "needs_background": "light"
          }
        }
      ]
    },
    {
      "cell_type": "markdown",
      "metadata": {
        "id": "EVaKO-rMMBeh"
      },
      "source": [
        "Step 7:\n",
        "\n",
        "When the learning rate increases, the loss increases. This is because the model converges too quickly to a suboptimal solution. Hence by exponentially decreasing the learning rate using ExponentialDecay(), we can control the loss."
      ]
    },
    {
      "cell_type": "code",
      "metadata": {
        "colab": {
          "base_uri": "https://localhost:8080/"
        },
        "id": "9c1Ix-tbh7L_",
        "outputId": "a271705f-9f73-425b-ba3f-5e4b491fc9ec"
      },
      "source": [
        "print(\"model accuracy for loss as categorical loss: \", np.mean(training_history_categorical_crossentropy.history['accuracy']))"
      ],
      "execution_count": 214,
      "outputs": [
        {
          "output_type": "stream",
          "name": "stdout",
          "text": [
            "model accuracy for loss as categorical loss:  0.9888797916215042\n"
          ]
        }
      ]
    },
    {
      "cell_type": "code",
      "metadata": {
        "colab": {
          "base_uri": "https://localhost:8080/",
          "height": 295
        },
        "id": "ZS1fzKkTigGW",
        "outputId": "bdfead00-e9a3-4208-a876-bb080e2d7f02"
      },
      "source": [
        "plt.plot(training_history_categorical_crossentropy.history['accuracy'])\n",
        "plt.plot(training_history_categorical_crossentropy.history['val_accuracy'])\n",
        "plt.title('model accuracy for loss as categorical loss')\n",
        "plt.ylabel('accuracy')\n",
        "plt.xlabel('epoch')\n",
        "plt.legend(['train', 'test'], loc='upper left')\n",
        "plt.show()"
      ],
      "execution_count": 215,
      "outputs": [
        {
          "output_type": "display_data",
          "data": {
            "image/png": "[encoded data removed]",
            "text/plain": [
              "<Figure size 432x288 with 1 Axes>"
            ]
          },
          "metadata": {
            "needs_background": "light"
          }
        }
      ]
    },
    {
      "cell_type": "code",
      "metadata": {
        "id": "eozYqTM6-V-f"
      },
      "source": [
        "model.compile(loss=keras.losses.binary_crossentropy,\n",
        "              optimizer=sgd,\n",
        "              metrics=['accuracy'])"
      ],
      "execution_count": 216,
      "outputs": []
    },
    {
      "cell_type": "markdown",
      "metadata": {
        "id": "diTJ-YIhQXvp"
      },
      "source": [
        "Model with Binary Crossentropy Loss:"
      ]
    },
    {
      "cell_type": "code",
      "metadata": {
        "colab": {
          "base_uri": "https://localhost:8080/"
        },
        "id": "eD0JqeCRR3NN",
        "outputId": "e5b04507-0364-4c39-d8c3-1b789ae42771"
      },
      "source": [
        "training_history_binary_crossentropy = model.fit(\n",
        "    X_train,\n",
        "    y_train,\n",
        "    epochs=epoch,\n",
        "    verbose=1,\n",
        "    validation_data=(X_val, y_val),\n",
        "    callbacks=callback_list\n",
        ")"
      ],
      "execution_count": 217,
      "outputs": [
        {
          "output_type": "stream",
          "name": "stdout",
          "text": [
            "Epoch 1/100\n",
            "1500/1500 [==============================] - 3s 2ms/step - loss: 0.0548 - accuracy: 0.9894 - val_loss: 0.0412 - val_accuracy: 0.9655\n",
            "\n",
            " Epoch: 1 , LR: 0.10\n",
            "Epoch 2/100\n",
            "1500/1500 [==============================] - 3s 2ms/step - loss: 0.0186 - accuracy: 0.9947 - val_loss: 0.0380 - val_accuracy: 0.9668\n",
            "\n",
            " Epoch: 2 , LR: 0.10\n",
            "Epoch 3/100\n",
            "1500/1500 [==============================] - 3s 2ms/step - loss: 0.0161 - accuracy: 0.9950 - val_loss: 0.0362 - val_accuracy: 0.9664\n",
            "\n",
            " Epoch: 3 , LR: 0.10\n",
            "Epoch 4/100\n",
            "1500/1500 [==============================] - 2s 2ms/step - loss: 0.0146 - accuracy: 0.9952 - val_loss: 0.0350 - val_accuracy: 0.9672\n",
            "\n",
            " Epoch: 4 , LR: 0.10\n",
            "Epoch 5/100\n",
            "1500/1500 [==============================] - 3s 2ms/step - loss: 0.0135 - accuracy: 0.9955 - val_loss: 0.0339 - val_accuracy: 0.9676\n",
            "\n",
            " Epoch: 5 , LR: 0.10\n",
            "Epoch 6/100\n",
            "1500/1500 [==============================] - 2s 2ms/step - loss: 0.0127 - accuracy: 0.9955 - val_loss: 0.0333 - val_accuracy: 0.9684\n",
            "\n",
            " Epoch: 6 , LR: 0.10\n",
            "Epoch 7/100\n",
            "1500/1500 [==============================] - 2s 2ms/step - loss: 0.0122 - accuracy: 0.9954 - val_loss: 0.0331 - val_accuracy: 0.9682\n",
            "\n",
            " Epoch: 7 , LR: 0.10\n",
            "Epoch 8/100\n",
            "1500/1500 [==============================] - 3s 2ms/step - loss: 0.0117 - accuracy: 0.9956 - val_loss: 0.0327 - val_accuracy: 0.9682\n",
            "\n",
            " Epoch: 8 , LR: 0.10\n",
            "Epoch 9/100\n",
            "1500/1500 [==============================] - 3s 2ms/step - loss: 0.0112 - accuracy: 0.9955 - val_loss: 0.0319 - val_accuracy: 0.9685\n",
            "\n",
            " Epoch: 9 , LR: 0.10\n",
            "Epoch 10/100\n",
            "1500/1500 [==============================] - 2s 2ms/step - loss: 0.0109 - accuracy: 0.9957 - val_loss: 0.0315 - val_accuracy: 0.9684\n",
            "\n",
            " Epoch: 10 , LR: 0.10\n",
            "Epoch 11/100\n",
            "1500/1500 [==============================] - 3s 2ms/step - loss: 0.0105 - accuracy: 0.9958 - val_loss: 0.0312 - val_accuracy: 0.9683\n",
            "\n",
            " Epoch: 11 , LR: 0.10\n",
            "Epoch 12/100\n",
            "1500/1500 [==============================] - 3s 2ms/step - loss: 0.0102 - accuracy: 0.9958 - val_loss: 0.0308 - val_accuracy: 0.9687\n",
            "\n",
            " Epoch: 12 , LR: 0.10\n",
            "Epoch 13/100\n",
            "1500/1500 [==============================] - 2s 2ms/step - loss: 0.0099 - accuracy: 0.9958 - val_loss: 0.0307 - val_accuracy: 0.9687\n",
            "\n",
            " Epoch: 13 , LR: 0.10\n",
            "Epoch 14/100\n",
            "1500/1500 [==============================] - 3s 2ms/step - loss: 0.0097 - accuracy: 0.9958 - val_loss: 0.0305 - val_accuracy: 0.9688\n",
            "\n",
            " Epoch: 14 , LR: 0.10\n",
            "Epoch 15/100\n",
            "1500/1500 [==============================] - 2s 2ms/step - loss: 0.0095 - accuracy: 0.9959 - val_loss: 0.0302 - val_accuracy: 0.9687\n",
            "\n",
            " Epoch: 15 , LR: 0.10\n",
            "Epoch 16/100\n",
            "1500/1500 [==============================] - 3s 2ms/step - loss: 0.0092 - accuracy: 0.9960 - val_loss: 0.0300 - val_accuracy: 0.9687\n",
            "\n",
            " Epoch: 16 , LR: 0.10\n",
            "Epoch 17/100\n",
            "1500/1500 [==============================] - 3s 2ms/step - loss: 0.0090 - accuracy: 0.9961 - val_loss: 0.0299 - val_accuracy: 0.9683\n",
            "\n",
            " Epoch: 17 , LR: 0.10\n",
            "Epoch 18/100\n",
            "1500/1500 [==============================] - 3s 2ms/step - loss: 0.0089 - accuracy: 0.9960 - val_loss: 0.0296 - val_accuracy: 0.9690\n",
            "\n",
            " Epoch: 18 , LR: 0.10\n",
            "Epoch 19/100\n",
            "1500/1500 [==============================] - 2s 2ms/step - loss: 0.0087 - accuracy: 0.9961 - val_loss: 0.0294 - val_accuracy: 0.9688\n",
            "\n",
            " Epoch: 19 , LR: 0.10\n",
            "Epoch 20/100\n",
            "1500/1500 [==============================] - 3s 2ms/step - loss: 0.0085 - accuracy: 0.9961 - val_loss: 0.0293 - val_accuracy: 0.9687\n",
            "\n",
            " Epoch: 20 , LR: 0.10\n",
            "Epoch 21/100\n",
            "1500/1500 [==============================] - 2s 2ms/step - loss: 0.0084 - accuracy: 0.9965 - val_loss: 0.0292 - val_accuracy: 0.9687\n",
            "\n",
            " Epoch: 21 , LR: 0.10\n",
            "Epoch 22/100\n",
            "1500/1500 [==============================] - 3s 2ms/step - loss: 0.0083 - accuracy: 0.9961 - val_loss: 0.0293 - val_accuracy: 0.9692\n",
            "\n",
            " Epoch: 22 , LR: 0.10\n",
            "Epoch 23/100\n",
            "1500/1500 [==============================] - 3s 2ms/step - loss: 0.0081 - accuracy: 0.9964 - val_loss: 0.0291 - val_accuracy: 0.9689\n",
            "\n",
            " Epoch: 23 , LR: 0.10\n",
            "Epoch 24/100\n",
            "1500/1500 [==============================] - 2s 2ms/step - loss: 0.0080 - accuracy: 0.9966 - val_loss: 0.0288 - val_accuracy: 0.9696\n",
            "\n",
            " Epoch: 24 , LR: 0.10\n",
            "Epoch 25/100\n",
            "1500/1500 [==============================] - 2s 2ms/step - loss: 0.0079 - accuracy: 0.9966 - val_loss: 0.0289 - val_accuracy: 0.9692\n",
            "\n",
            " Epoch: 25 , LR: 0.10\n",
            "Epoch 26/100\n",
            "1500/1500 [==============================] - 3s 2ms/step - loss: 0.0078 - accuracy: 0.9963 - val_loss: 0.0289 - val_accuracy: 0.9692\n",
            "\n",
            " Epoch: 26 , LR: 0.10\n",
            "Epoch 27/100\n",
            "1500/1500 [==============================] - 3s 2ms/step - loss: 0.0077 - accuracy: 0.9963 - val_loss: 0.0286 - val_accuracy: 0.9687\n",
            "\n",
            " Epoch: 27 , LR: 0.10\n",
            "Epoch 28/100\n",
            "1500/1500 [==============================] - 3s 2ms/step - loss: 0.0076 - accuracy: 0.9967 - val_loss: 0.0286 - val_accuracy: 0.9690\n",
            "\n",
            " Epoch: 28 , LR: 0.10\n",
            "Epoch 29/100\n",
            "1500/1500 [==============================] - 2s 2ms/step - loss: 0.0075 - accuracy: 0.9965 - val_loss: 0.0285 - val_accuracy: 0.9693\n",
            "\n",
            " Epoch: 29 , LR: 0.10\n",
            "Epoch 30/100\n",
            "1500/1500 [==============================] - 3s 2ms/step - loss: 0.0074 - accuracy: 0.9968 - val_loss: 0.0285 - val_accuracy: 0.9687\n",
            "\n",
            " Epoch: 30 , LR: 0.10\n",
            "Epoch 31/100\n",
            "1500/1500 [==============================] - 3s 2ms/step - loss: 0.0073 - accuracy: 0.9968 - val_loss: 0.0285 - val_accuracy: 0.9690\n",
            "\n",
            " Epoch: 31 , LR: 0.10\n",
            "Epoch 32/100\n",
            "1500/1500 [==============================] - 3s 2ms/step - loss: 0.0072 - accuracy: 0.9968 - val_loss: 0.0285 - val_accuracy: 0.9693\n",
            "\n",
            " Epoch: 32 , LR: 0.10\n",
            "Epoch 33/100\n",
            "1500/1500 [==============================] - 2s 2ms/step - loss: 0.0071 - accuracy: 0.9969 - val_loss: 0.0286 - val_accuracy: 0.9689\n",
            "\n",
            " Epoch: 33 , LR: 0.10\n",
            "Epoch 34/100\n",
            "1500/1500 [==============================] - 2s 2ms/step - loss: 0.0070 - accuracy: 0.9970 - val_loss: 0.0284 - val_accuracy: 0.9683\n",
            "\n",
            " Epoch: 34 , LR: 0.10\n",
            "Epoch 35/100\n",
            "1500/1500 [==============================] - 2s 2ms/step - loss: 0.0069 - accuracy: 0.9969 - val_loss: 0.0282 - val_accuracy: 0.9691\n",
            "\n",
            " Epoch: 35 , LR: 0.10\n",
            "Epoch 36/100\n",
            "1500/1500 [==============================] - 3s 2ms/step - loss: 0.0068 - accuracy: 0.9970 - val_loss: 0.0283 - val_accuracy: 0.9688\n",
            "\n",
            " Epoch: 36 , LR: 0.10\n",
            "Epoch 37/100\n",
            "1500/1500 [==============================] - 2s 2ms/step - loss: 0.0068 - accuracy: 0.9973 - val_loss: 0.0283 - val_accuracy: 0.9690\n",
            "\n",
            " Epoch: 37 , LR: 0.10\n",
            "Epoch 38/100\n",
            "1500/1500 [==============================] - 2s 2ms/step - loss: 0.0067 - accuracy: 0.9970 - val_loss: 0.0283 - val_accuracy: 0.9691\n",
            "\n",
            " Epoch: 38 , LR: 0.10\n",
            "Epoch 39/100\n",
            "1500/1500 [==============================] - 2s 2ms/step - loss: 0.0066 - accuracy: 0.9971 - val_loss: 0.0281 - val_accuracy: 0.9693\n",
            "\n",
            " Epoch: 39 , LR: 0.10\n",
            "Epoch 40/100\n",
            "1500/1500 [==============================] - 3s 2ms/step - loss: 0.0065 - accuracy: 0.9970 - val_loss: 0.0283 - val_accuracy: 0.9688\n",
            "\n",
            " Epoch: 40 , LR: 0.10\n",
            "Epoch 41/100\n",
            "1500/1500 [==============================] - 3s 2ms/step - loss: 0.0065 - accuracy: 0.9973 - val_loss: 0.0282 - val_accuracy: 0.9700\n",
            "\n",
            " Epoch: 41 , LR: 0.10\n",
            "Epoch 42/100\n",
            "1500/1500 [==============================] - 2s 2ms/step - loss: 0.0064 - accuracy: 0.9973 - val_loss: 0.0281 - val_accuracy: 0.9688\n",
            "\n",
            " Epoch: 42 , LR: 0.10\n",
            "Epoch 43/100\n",
            "1500/1500 [==============================] - 2s 2ms/step - loss: 0.0064 - accuracy: 0.9972 - val_loss: 0.0282 - val_accuracy: 0.9693\n",
            "\n",
            " Epoch: 43 , LR: 0.10\n",
            "Epoch 44/100\n",
            "1500/1500 [==============================] - 3s 2ms/step - loss: 0.0063 - accuracy: 0.9972 - val_loss: 0.0283 - val_accuracy: 0.9692\n",
            "\n",
            " Epoch: 44 , LR: 0.10\n",
            "Epoch 45/100\n",
            "1500/1500 [==============================] - 3s 2ms/step - loss: 0.0062 - accuracy: 0.9973 - val_loss: 0.0284 - val_accuracy: 0.9690\n",
            "\n",
            " Epoch: 45 , LR: 0.10\n",
            "Epoch 46/100\n",
            "1500/1500 [==============================] - 2s 2ms/step - loss: 0.0062 - accuracy: 0.9973 - val_loss: 0.0283 - val_accuracy: 0.9687\n",
            "\n",
            " Epoch: 46 , LR: 0.10\n",
            "Epoch 47/100\n",
            "1500/1500 [==============================] - 3s 2ms/step - loss: 0.0061 - accuracy: 0.9973 - val_loss: 0.0279 - val_accuracy: 0.9691\n",
            "\n",
            " Epoch: 47 , LR: 0.10\n",
            "Epoch 48/100\n",
            "1500/1500 [==============================] - 3s 2ms/step - loss: 0.0060 - accuracy: 0.9976 - val_loss: 0.0281 - val_accuracy: 0.9693\n",
            "\n",
            " Epoch: 48 , LR: 0.10\n",
            "Epoch 49/100\n",
            "1500/1500 [==============================] - 2s 2ms/step - loss: 0.0060 - accuracy: 0.9973 - val_loss: 0.0281 - val_accuracy: 0.9694\n",
            "\n",
            " Epoch: 49 , LR: 0.10\n",
            "Epoch 50/100\n",
            "1500/1500 [==============================] - 3s 2ms/step - loss: 0.0059 - accuracy: 0.9974 - val_loss: 0.0281 - val_accuracy: 0.9691\n",
            "\n",
            " Epoch: 50 , LR: 0.10\n",
            "Epoch 51/100\n",
            "1500/1500 [==============================] - 3s 2ms/step - loss: 0.0059 - accuracy: 0.9974 - val_loss: 0.0280 - val_accuracy: 0.9692\n",
            "\n",
            " Epoch: 51 , LR: 0.10\n",
            "Epoch 52/100\n",
            "1500/1500 [==============================] - 3s 2ms/step - loss: 0.0058 - accuracy: 0.9977 - val_loss: 0.0279 - val_accuracy: 0.9691\n",
            "\n",
            " Epoch: 52 , LR: 0.10\n",
            "Epoch 53/100\n",
            "1500/1500 [==============================] - 3s 2ms/step - loss: 0.0058 - accuracy: 0.9976 - val_loss: 0.0282 - val_accuracy: 0.9688\n",
            "\n",
            " Epoch: 53 , LR: 0.10\n",
            "Epoch 54/100\n",
            "1500/1500 [==============================] - 2s 2ms/step - loss: 0.0057 - accuracy: 0.9976 - val_loss: 0.0280 - val_accuracy: 0.9693\n",
            "\n",
            " Epoch: 54 , LR: 0.10\n",
            "Epoch 55/100\n",
            "1500/1500 [==============================] - 2s 2ms/step - loss: 0.0057 - accuracy: 0.9977 - val_loss: 0.0281 - val_accuracy: 0.9693\n",
            "\n",
            " Epoch: 55 , LR: 0.10\n",
            "Epoch 56/100\n",
            "1500/1500 [==============================] - 2s 2ms/step - loss: 0.0056 - accuracy: 0.9977 - val_loss: 0.0283 - val_accuracy: 0.9682\n",
            "\n",
            " Epoch: 56 , LR: 0.10\n",
            "Epoch 57/100\n",
            "1500/1500 [==============================] - 3s 2ms/step - loss: 0.0056 - accuracy: 0.9979 - val_loss: 0.0281 - val_accuracy: 0.9688\n",
            "\n",
            " Epoch: 57 , LR: 0.10\n",
            "Epoch 58/100\n",
            "1500/1500 [==============================] - 2s 2ms/step - loss: 0.0055 - accuracy: 0.9977 - val_loss: 0.0281 - val_accuracy: 0.9688\n",
            "\n",
            " Epoch: 58 , LR: 0.10\n",
            "Epoch 59/100\n",
            "1500/1500 [==============================] - 3s 2ms/step - loss: 0.0055 - accuracy: 0.9979 - val_loss: 0.0279 - val_accuracy: 0.9695\n",
            "\n",
            " Epoch: 59 , LR: 0.10\n",
            "Epoch 60/100\n",
            "1500/1500 [==============================] - 3s 2ms/step - loss: 0.0054 - accuracy: 0.9977 - val_loss: 0.0280 - val_accuracy: 0.9692\n",
            "\n",
            " Epoch: 60 , LR: 0.10\n",
            "Epoch 61/100\n",
            "1500/1500 [==============================] - 2s 2ms/step - loss: 0.0054 - accuracy: 0.9979 - val_loss: 0.0281 - val_accuracy: 0.9691\n",
            "\n",
            " Epoch: 61 , LR: 0.10\n",
            "Epoch 62/100\n",
            "1500/1500 [==============================] - 3s 2ms/step - loss: 0.0053 - accuracy: 0.9980 - val_loss: 0.0282 - val_accuracy: 0.9693\n",
            "\n",
            " Epoch: 62 , LR: 0.10\n",
            "Epoch 63/100\n",
            "1500/1500 [==============================] - 2s 2ms/step - loss: 0.0053 - accuracy: 0.9981 - val_loss: 0.0280 - val_accuracy: 0.9690\n",
            "\n",
            " Epoch: 63 , LR: 0.10\n",
            "Epoch 64/100\n",
            "1500/1500 [==============================] - 3s 2ms/step - loss: 0.0052 - accuracy: 0.9979 - val_loss: 0.0279 - val_accuracy: 0.9692\n",
            "\n",
            " Epoch: 64 , LR: 0.10\n",
            "Epoch 65/100\n",
            "1500/1500 [==============================] - 2s 2ms/step - loss: 0.0052 - accuracy: 0.9979 - val_loss: 0.0282 - val_accuracy: 0.9696\n",
            "\n",
            " Epoch: 65 , LR: 0.10\n",
            "Epoch 66/100\n",
            "1500/1500 [==============================] - 2s 2ms/step - loss: 0.0052 - accuracy: 0.9981 - val_loss: 0.0280 - val_accuracy: 0.9694\n",
            "\n",
            " Epoch: 66 , LR: 0.10\n",
            "Epoch 67/100\n",
            "1500/1500 [==============================] - 2s 2ms/step - loss: 0.0051 - accuracy: 0.9980 - val_loss: 0.0283 - val_accuracy: 0.9687\n",
            "\n",
            " Epoch: 67 , LR: 0.10\n",
            "Epoch 68/100\n",
            "1500/1500 [==============================] - 2s 2ms/step - loss: 0.0051 - accuracy: 0.9979 - val_loss: 0.0283 - val_accuracy: 0.9688\n",
            "\n",
            " Epoch: 68 , LR: 0.10\n",
            "Epoch 69/100\n",
            "1500/1500 [==============================] - 2s 2ms/step - loss: 0.0050 - accuracy: 0.9981 - val_loss: 0.0284 - val_accuracy: 0.9685\n",
            "\n",
            " Epoch: 69 , LR: 0.10\n",
            "Epoch 70/100\n",
            "1500/1500 [==============================] - 2s 2ms/step - loss: 0.0050 - accuracy: 0.9980 - val_loss: 0.0280 - val_accuracy: 0.9692\n",
            "\n",
            " Epoch: 70 , LR: 0.10\n",
            "Epoch 71/100\n",
            "1500/1500 [==============================] - 2s 2ms/step - loss: 0.0050 - accuracy: 0.9981 - val_loss: 0.0282 - val_accuracy: 0.9688\n",
            "\n",
            " Epoch: 71 , LR: 0.10\n",
            "Epoch 72/100\n",
            "1500/1500 [==============================] - 2s 2ms/step - loss: 0.0049 - accuracy: 0.9982 - val_loss: 0.0280 - val_accuracy: 0.9691\n",
            "\n",
            " Epoch: 72 , LR: 0.10\n",
            "Epoch 73/100\n",
            "1500/1500 [==============================] - 2s 2ms/step - loss: 0.0049 - accuracy: 0.9982 - val_loss: 0.0280 - val_accuracy: 0.9694\n",
            "\n",
            " Epoch: 73 , LR: 0.10\n",
            "Epoch 74/100\n",
            "1500/1500 [==============================] - 2s 2ms/step - loss: 0.0048 - accuracy: 0.9984 - val_loss: 0.0281 - val_accuracy: 0.9691\n",
            "\n",
            " Epoch: 74 , LR: 0.10\n",
            "Epoch 75/100\n",
            "1500/1500 [==============================] - 2s 2ms/step - loss: 0.0048 - accuracy: 0.9983 - val_loss: 0.0281 - val_accuracy: 0.9689\n",
            "\n",
            " Epoch: 75 , LR: 0.10\n",
            "Epoch 76/100\n",
            "1500/1500 [==============================] - 3s 2ms/step - loss: 0.0047 - accuracy: 0.9984 - val_loss: 0.0281 - val_accuracy: 0.9691\n",
            "\n",
            " Epoch: 76 , LR: 0.10\n",
            "Epoch 77/100\n",
            "1500/1500 [==============================] - 3s 2ms/step - loss: 0.0047 - accuracy: 0.9983 - val_loss: 0.0282 - val_accuracy: 0.9687\n",
            "\n",
            " Epoch: 77 , LR: 0.10\n",
            "Epoch 78/100\n",
            "1500/1500 [==============================] - 3s 2ms/step - loss: 0.0047 - accuracy: 0.9985 - val_loss: 0.0282 - val_accuracy: 0.9689\n",
            "\n",
            " Epoch: 78 , LR: 0.10\n",
            "Epoch 79/100\n",
            "1500/1500 [==============================] - 2s 2ms/step - loss: 0.0046 - accuracy: 0.9983 - val_loss: 0.0281 - val_accuracy: 0.9691\n",
            "\n",
            " Epoch: 79 , LR: 0.10\n",
            "Epoch 80/100\n",
            "1500/1500 [==============================] - 3s 2ms/step - loss: 0.0046 - accuracy: 0.9984 - val_loss: 0.0282 - val_accuracy: 0.9688\n",
            "\n",
            " Epoch: 80 , LR: 0.10\n",
            "Epoch 81/100\n",
            "1500/1500 [==============================] - 2s 2ms/step - loss: 0.0046 - accuracy: 0.9986 - val_loss: 0.0281 - val_accuracy: 0.9693\n",
            "\n",
            " Epoch: 81 , LR: 0.10\n",
            "Epoch 82/100\n",
            "1500/1500 [==============================] - 3s 2ms/step - loss: 0.0045 - accuracy: 0.9984 - val_loss: 0.0282 - val_accuracy: 0.9684\n",
            "\n",
            " Epoch: 82 , LR: 0.10\n",
            "Epoch 83/100\n",
            "1500/1500 [==============================] - 2s 2ms/step - loss: 0.0045 - accuracy: 0.9986 - val_loss: 0.0281 - val_accuracy: 0.9690\n",
            "\n",
            " Epoch: 83 , LR: 0.10\n",
            "Epoch 84/100\n",
            "1500/1500 [==============================] - 3s 2ms/step - loss: 0.0045 - accuracy: 0.9986 - val_loss: 0.0283 - val_accuracy: 0.9682\n",
            "\n",
            " Epoch: 84 , LR: 0.10\n",
            "Epoch 85/100\n",
            "1500/1500 [==============================] - 3s 2ms/step - loss: 0.0044 - accuracy: 0.9987 - val_loss: 0.0283 - val_accuracy: 0.9690\n",
            "\n",
            " Epoch: 85 , LR: 0.10\n",
            "Epoch 86/100\n",
            "1500/1500 [==============================] - 2s 2ms/step - loss: 0.0044 - accuracy: 0.9985 - val_loss: 0.0283 - val_accuracy: 0.9689\n",
            "\n",
            " Epoch: 86 , LR: 0.10\n",
            "Epoch 87/100\n",
            "1500/1500 [==============================] - 3s 2ms/step - loss: 0.0044 - accuracy: 0.9985 - val_loss: 0.0282 - val_accuracy: 0.9690\n",
            "\n",
            " Epoch: 87 , LR: 0.10\n",
            "Epoch 88/100\n",
            "1500/1500 [==============================] - 3s 2ms/step - loss: 0.0043 - accuracy: 0.9986 - val_loss: 0.0284 - val_accuracy: 0.9688\n",
            "\n",
            " Epoch: 88 , LR: 0.10\n",
            "Epoch 89/100\n",
            "1500/1500 [==============================] - 2s 2ms/step - loss: 0.0043 - accuracy: 0.9987 - val_loss: 0.0283 - val_accuracy: 0.9682\n",
            "\n",
            " Epoch: 89 , LR: 0.10\n",
            "Epoch 90/100\n",
            "1500/1500 [==============================] - 3s 2ms/step - loss: 0.0043 - accuracy: 0.9987 - val_loss: 0.0285 - val_accuracy: 0.9687\n",
            "\n",
            " Epoch: 90 , LR: 0.10\n",
            "Epoch 91/100\n",
            "1500/1500 [==============================] - 3s 2ms/step - loss: 0.0042 - accuracy: 0.9988 - val_loss: 0.0283 - val_accuracy: 0.9691\n",
            "\n",
            " Epoch: 91 , LR: 0.10\n"
          ]
        }
      ]
    },
    {
      "cell_type": "code",
      "metadata": {
        "colab": {
          "base_uri": "https://localhost:8080/",
          "height": 312
        },
        "id": "nnHgsIfx78kb",
        "outputId": "82c5fdfa-3f71-491c-c02e-fe166b6180e4"
      },
      "source": [
        "plt.xlabel(\"Learning rate\")\n",
        "plt.ylabel(\"Loss\")\n",
        "plt.title('lr vs loss for model with loss as binary loss')\n",
        "plt.plot(training_history_binary_crossentropy.history['lr'], training_history_binary_crossentropy.history['loss'])"
      ],
      "execution_count": 218,
      "outputs": [
        {
          "output_type": "execute_result",
          "data": {
            "text/plain": [
              "[<matplotlib.lines.Line2D at 0x7f6cc5cbe2d0>]"
            ]
          },
          "metadata": {},
          "execution_count": 218
        },
        {
          "output_type": "display_data",
          "data": {
            "image/png": "[encoded data removed]",
            "text/plain": [
              "<Figure size 432x288 with 1 Axes>"
            ]
          },
          "metadata": {
            "needs_background": "light"
          }
        }
      ]
    },
    {
      "cell_type": "code",
      "metadata": {
        "colab": {
          "base_uri": "https://localhost:8080/"
        },
        "id": "tUXINCo7h2tH",
        "outputId": "5d6b781e-2239-4dbd-d089-2443777d87dc"
      },
      "source": [
        "print(\"model accuracy for loss as binary loss: \", np.mean(training_history_binary_crossentropy.history['accuracy']))"
      ],
      "execution_count": 219,
      "outputs": [
        {
          "output_type": "stream",
          "name": "stdout",
          "text": [
            "model accuracy for loss as binary loss:  0.9971325554690518\n"
          ]
        }
      ]
    },
    {
      "cell_type": "code",
      "metadata": {
        "colab": {
          "base_uri": "https://localhost:8080/",
          "height": 295
        },
        "id": "c2CQjkH2imNq",
        "outputId": "b27c3d4d-2cdf-4b97-9c9c-8a2eed87693f"
      },
      "source": [
        "plt.plot(training_history_binary_crossentropy.history['accuracy'])\n",
        "plt.plot(training_history_binary_crossentropy.history['val_accuracy'])\n",
        "plt.title('model accuracy for loss as binary loss')\n",
        "plt.ylabel('accuracy')\n",
        "plt.xlabel('epoch')\n",
        "plt.legend(['train', 'test'], loc='upper left')\n",
        "plt.show()"
      ],
      "execution_count": 220,
      "outputs": [
        {
          "output_type": "display_data",
          "data": {
            "image/png": "[encoded data removed]",
            "text/plain": [
              "<Figure size 432x288 with 1 Axes>"
            ]
          },
          "metadata": {
            "needs_background": "light"
          }
        }
      ]
    },
    {
      "cell_type": "code",
      "metadata": {
        "id": "lQSs1xm1UdFZ"
      },
      "source": [
        "model.compile(loss=keras.losses.mean_squared_error,\n",
        "              optimizer=sgd,\n",
        "              metrics=['accuracy'])"
      ],
      "execution_count": 221,
      "outputs": []
    },
    {
      "cell_type": "markdown",
      "metadata": {
        "id": "bFYfymTdQcC2"
      },
      "source": [
        "Model with Mean Squared Error Loss:"
      ]
    },
    {
      "cell_type": "code",
      "metadata": {
        "colab": {
          "base_uri": "https://localhost:8080/"
        },
        "id": "K7vtxFTTUpu8",
        "outputId": "8e699fbe-b3fd-4bd3-a838-6780de363b79"
      },
      "source": [
        "training_history_mean_squared = model.fit(\n",
        "    X_train,\n",
        "    y_train,\n",
        "    epochs=100,\n",
        "    verbose=1,\n",
        "    validation_data=(X_val, y_val),\n",
        "    callbacks=callback_list\n",
        ")"
      ],
      "execution_count": 222,
      "outputs": [
        {
          "output_type": "stream",
          "name": "stdout",
          "text": [
            "Epoch 1/100\n",
            "1500/1500 [==============================] - 3s 2ms/step - loss: 1.9595e-04 - accuracy: 0.9990 - val_loss: 0.0053 - val_accuracy: 0.9683\n",
            "\n",
            " Epoch: 1 , LR: 0.10\n",
            "Epoch 2/100\n",
            "1500/1500 [==============================] - 3s 2ms/step - loss: 1.6410e-04 - accuracy: 0.9991 - val_loss: 0.0052 - val_accuracy: 0.9688\n",
            "\n",
            " Epoch: 2 , LR: 0.10\n",
            "Epoch 3/100\n",
            "1500/1500 [==============================] - 2s 2ms/step - loss: 1.4662e-04 - accuracy: 0.9993 - val_loss: 0.0053 - val_accuracy: 0.9684\n",
            "\n",
            " Epoch: 3 , LR: 0.10\n",
            "Epoch 4/100\n",
            "1500/1500 [==============================] - 3s 2ms/step - loss: 1.2983e-04 - accuracy: 0.9994 - val_loss: 0.0053 - val_accuracy: 0.9684\n",
            "\n",
            " Epoch: 4 , LR: 0.10\n",
            "Epoch 5/100\n",
            "1500/1500 [==============================] - 2s 2ms/step - loss: 1.1878e-04 - accuracy: 0.9995 - val_loss: 0.0053 - val_accuracy: 0.9687\n",
            "\n",
            " Epoch: 5 , LR: 0.10\n",
            "Epoch 6/100\n",
            "1500/1500 [==============================] - 3s 2ms/step - loss: 1.0982e-04 - accuracy: 0.9995 - val_loss: 0.0053 - val_accuracy: 0.9683\n",
            "\n",
            " Epoch: 6 , LR: 0.10\n",
            "Epoch 7/100\n",
            "1500/1500 [==============================] - 2s 2ms/step - loss: 1.0133e-04 - accuracy: 0.9996 - val_loss: 0.0053 - val_accuracy: 0.9686\n",
            "\n",
            " Epoch: 7 , LR: 0.10\n",
            "Epoch 8/100\n",
            "1500/1500 [==============================] - 3s 2ms/step - loss: 9.4898e-05 - accuracy: 0.9997 - val_loss: 0.0053 - val_accuracy: 0.9684\n",
            "\n",
            " Epoch: 8 , LR: 0.10\n",
            "Epoch 9/100\n",
            "1500/1500 [==============================] - 3s 2ms/step - loss: 8.8963e-05 - accuracy: 0.9997 - val_loss: 0.0053 - val_accuracy: 0.9685\n",
            "\n",
            " Epoch: 9 , LR: 0.10\n",
            "Epoch 10/100\n",
            "1500/1500 [==============================] - 2s 2ms/step - loss: 8.2557e-05 - accuracy: 0.9998 - val_loss: 0.0053 - val_accuracy: 0.9678\n",
            "\n",
            " Epoch: 10 , LR: 0.10\n",
            "Epoch 11/100\n",
            "1500/1500 [==============================] - 3s 2ms/step - loss: 7.8363e-05 - accuracy: 0.9998 - val_loss: 0.0053 - val_accuracy: 0.9681\n",
            "\n",
            " Epoch: 11 , LR: 0.10\n",
            "Epoch 12/100\n",
            "1500/1500 [==============================] - 2s 2ms/step - loss: 7.3562e-05 - accuracy: 0.9998 - val_loss: 0.0053 - val_accuracy: 0.9679\n",
            "\n",
            " Epoch: 12 , LR: 0.10\n",
            "Epoch 13/100\n",
            "1500/1500 [==============================] - 3s 2ms/step - loss: 6.9954e-05 - accuracy: 0.9999 - val_loss: 0.0053 - val_accuracy: 0.9683\n",
            "\n",
            " Epoch: 13 , LR: 0.10\n",
            "Epoch 14/100\n",
            "1500/1500 [==============================] - 2s 2ms/step - loss: 6.5452e-05 - accuracy: 0.9999 - val_loss: 0.0053 - val_accuracy: 0.9683\n",
            "\n",
            " Epoch: 14 , LR: 0.10\n",
            "Epoch 15/100\n",
            "1500/1500 [==============================] - 3s 2ms/step - loss: 6.3382e-05 - accuracy: 0.9999 - val_loss: 0.0053 - val_accuracy: 0.9682\n",
            "\n",
            " Epoch: 15 , LR: 0.10\n",
            "Epoch 16/100\n",
            "1500/1500 [==============================] - 3s 2ms/step - loss: 5.9917e-05 - accuracy: 0.9999 - val_loss: 0.0053 - val_accuracy: 0.9684\n",
            "\n",
            " Epoch: 16 , LR: 0.10\n",
            "Epoch 17/100\n",
            "1500/1500 [==============================] - 3s 2ms/step - loss: 5.8095e-05 - accuracy: 0.9999 - val_loss: 0.0053 - val_accuracy: 0.9681\n",
            "\n",
            " Epoch: 17 , LR: 0.10\n",
            "Epoch 18/100\n",
            "1500/1500 [==============================] - 3s 2ms/step - loss: 5.6019e-05 - accuracy: 0.9999 - val_loss: 0.0053 - val_accuracy: 0.9681\n",
            "\n",
            " Epoch: 18 , LR: 0.10\n",
            "Epoch 19/100\n",
            "1500/1500 [==============================] - 3s 2ms/step - loss: 5.3705e-05 - accuracy: 0.9999 - val_loss: 0.0053 - val_accuracy: 0.9681\n",
            "\n",
            " Epoch: 19 , LR: 0.10\n",
            "Epoch 20/100\n",
            "1500/1500 [==============================] - 2s 2ms/step - loss: 5.2252e-05 - accuracy: 0.9999 - val_loss: 0.0053 - val_accuracy: 0.9683\n",
            "\n",
            " Epoch: 20 , LR: 0.10\n",
            "Epoch 21/100\n",
            "1500/1500 [==============================] - 2s 2ms/step - loss: 5.0712e-05 - accuracy: 0.9999 - val_loss: 0.0053 - val_accuracy: 0.9686\n",
            "\n",
            " Epoch: 21 , LR: 0.10\n",
            "Epoch 22/100\n",
            "1500/1500 [==============================] - 2s 2ms/step - loss: 4.9495e-05 - accuracy: 0.9999 - val_loss: 0.0053 - val_accuracy: 0.9681\n",
            "\n",
            " Epoch: 22 , LR: 0.10\n",
            "Epoch 23/100\n",
            "1500/1500 [==============================] - 3s 2ms/step - loss: 4.8052e-05 - accuracy: 0.9999 - val_loss: 0.0053 - val_accuracy: 0.9678\n",
            "\n",
            " Epoch: 23 , LR: 0.10\n",
            "Epoch 24/100\n",
            "1500/1500 [==============================] - 3s 2ms/step - loss: 4.7065e-05 - accuracy: 0.9999 - val_loss: 0.0053 - val_accuracy: 0.9682\n",
            "\n",
            " Epoch: 24 , LR: 0.10\n",
            "Epoch 25/100\n",
            "1500/1500 [==============================] - 2s 2ms/step - loss: 4.6031e-05 - accuracy: 0.9999 - val_loss: 0.0053 - val_accuracy: 0.9682\n",
            "\n",
            " Epoch: 25 , LR: 0.10\n",
            "Epoch 26/100\n",
            "1500/1500 [==============================] - 3s 2ms/step - loss: 4.4874e-05 - accuracy: 0.9999 - val_loss: 0.0053 - val_accuracy: 0.9682\n",
            "\n",
            " Epoch: 26 , LR: 0.10\n",
            "Epoch 27/100\n",
            "1500/1500 [==============================] - 3s 2ms/step - loss: 4.4212e-05 - accuracy: 0.9999 - val_loss: 0.0053 - val_accuracy: 0.9682\n",
            "\n",
            " Epoch: 27 , LR: 0.10\n",
            "Epoch 28/100\n",
            "1500/1500 [==============================] - 2s 2ms/step - loss: 4.3211e-05 - accuracy: 0.9999 - val_loss: 0.0053 - val_accuracy: 0.9683\n",
            "\n",
            " Epoch: 28 , LR: 0.10\n",
            "Epoch 29/100\n",
            "1500/1500 [==============================] - 3s 2ms/step - loss: 4.2307e-05 - accuracy: 0.9999 - val_loss: 0.0053 - val_accuracy: 0.9682\n",
            "\n",
            " Epoch: 29 , LR: 0.10\n",
            "Epoch 30/100\n",
            "1500/1500 [==============================] - 2s 2ms/step - loss: 4.1474e-05 - accuracy: 0.9999 - val_loss: 0.0053 - val_accuracy: 0.9681\n",
            "\n",
            " Epoch: 30 , LR: 0.10\n",
            "Epoch 31/100\n",
            "1500/1500 [==============================] - 2s 2ms/step - loss: 4.0724e-05 - accuracy: 0.9999 - val_loss: 0.0054 - val_accuracy: 0.9684\n",
            "\n",
            " Epoch: 31 , LR: 0.10\n",
            "Epoch 32/100\n",
            "1500/1500 [==============================] - 2s 2ms/step - loss: 3.9936e-05 - accuracy: 0.9999 - val_loss: 0.0054 - val_accuracy: 0.9680\n",
            "\n",
            " Epoch: 32 , LR: 0.10\n",
            "Epoch 33/100\n",
            "1500/1500 [==============================] - 2s 2ms/step - loss: 3.9207e-05 - accuracy: 0.9999 - val_loss: 0.0054 - val_accuracy: 0.9681\n",
            "\n",
            " Epoch: 33 , LR: 0.10\n",
            "Epoch 34/100\n",
            "1500/1500 [==============================] - 3s 2ms/step - loss: 3.8523e-05 - accuracy: 0.9999 - val_loss: 0.0054 - val_accuracy: 0.9679\n",
            "\n",
            " Epoch: 34 , LR: 0.10\n",
            "Epoch 35/100\n",
            "1500/1500 [==============================] - 2s 2ms/step - loss: 3.7993e-05 - accuracy: 0.9999 - val_loss: 0.0054 - val_accuracy: 0.9682\n",
            "\n",
            " Epoch: 35 , LR: 0.10\n",
            "Epoch 36/100\n",
            "1500/1500 [==============================] - 3s 2ms/step - loss: 3.7323e-05 - accuracy: 0.9999 - val_loss: 0.0054 - val_accuracy: 0.9682\n",
            "\n",
            " Epoch: 36 , LR: 0.10\n",
            "Epoch 37/100\n",
            "1500/1500 [==============================] - 3s 2ms/step - loss: 3.6669e-05 - accuracy: 0.9999 - val_loss: 0.0054 - val_accuracy: 0.9680\n",
            "\n",
            " Epoch: 37 , LR: 0.10\n",
            "Epoch 38/100\n",
            "1500/1500 [==============================] - 3s 2ms/step - loss: 3.6062e-05 - accuracy: 0.9999 - val_loss: 0.0054 - val_accuracy: 0.9684\n",
            "\n",
            " Epoch: 38 , LR: 0.10\n",
            "Epoch 39/100\n",
            "1500/1500 [==============================] - 3s 2ms/step - loss: 3.5350e-05 - accuracy: 0.9999 - val_loss: 0.0054 - val_accuracy: 0.9682\n",
            "\n",
            " Epoch: 39 , LR: 0.10\n",
            "Epoch 40/100\n",
            "1500/1500 [==============================] - 3s 2ms/step - loss: 3.5046e-05 - accuracy: 0.9999 - val_loss: 0.0054 - val_accuracy: 0.9680\n",
            "\n",
            " Epoch: 40 , LR: 0.10\n",
            "Epoch 41/100\n",
            "1500/1500 [==============================] - 2s 2ms/step - loss: 3.4513e-05 - accuracy: 0.9999 - val_loss: 0.0054 - val_accuracy: 0.9684\n",
            "\n",
            " Epoch: 41 , LR: 0.10\n",
            "Epoch 42/100\n",
            "1500/1500 [==============================] - 2s 2ms/step - loss: 3.4025e-05 - accuracy: 0.9999 - val_loss: 0.0054 - val_accuracy: 0.9682\n",
            "\n",
            " Epoch: 42 , LR: 0.10\n",
            "Epoch 43/100\n",
            "1500/1500 [==============================] - 2s 2ms/step - loss: 3.3512e-05 - accuracy: 0.9999 - val_loss: 0.0054 - val_accuracy: 0.9681\n",
            "\n",
            " Epoch: 43 , LR: 0.10\n",
            "Epoch 44/100\n",
            "1500/1500 [==============================] - 2s 2ms/step - loss: 3.3115e-05 - accuracy: 0.9999 - val_loss: 0.0054 - val_accuracy: 0.9682\n",
            "\n",
            " Epoch: 44 , LR: 0.10\n",
            "Epoch 45/100\n",
            "1500/1500 [==============================] - 2s 2ms/step - loss: 3.2712e-05 - accuracy: 0.9999 - val_loss: 0.0054 - val_accuracy: 0.9683\n",
            "\n",
            " Epoch: 45 , LR: 0.10\n",
            "Epoch 46/100\n",
            "1500/1500 [==============================] - 2s 2ms/step - loss: 3.2298e-05 - accuracy: 0.9999 - val_loss: 0.0054 - val_accuracy: 0.9681\n",
            "\n",
            " Epoch: 46 , LR: 0.10\n",
            "Epoch 47/100\n",
            "1500/1500 [==============================] - 3s 2ms/step - loss: 3.1965e-05 - accuracy: 0.9999 - val_loss: 0.0054 - val_accuracy: 0.9682\n",
            "\n",
            " Epoch: 47 , LR: 0.10\n",
            "Epoch 48/100\n",
            "1500/1500 [==============================] - 3s 2ms/step - loss: 3.1580e-05 - accuracy: 0.9999 - val_loss: 0.0054 - val_accuracy: 0.9682\n",
            "\n",
            " Epoch: 48 , LR: 0.10\n",
            "Epoch 49/100\n",
            "1500/1500 [==============================] - 2s 2ms/step - loss: 3.1325e-05 - accuracy: 0.9999 - val_loss: 0.0054 - val_accuracy: 0.9682\n",
            "\n",
            " Epoch: 49 , LR: 0.10\n",
            "Epoch 50/100\n",
            "1500/1500 [==============================] - 2s 2ms/step - loss: 3.0990e-05 - accuracy: 0.9999 - val_loss: 0.0054 - val_accuracy: 0.9682\n",
            "\n",
            " Epoch: 50 , LR: 0.10\n",
            "Epoch 51/100\n",
            "1500/1500 [==============================] - 3s 2ms/step - loss: 3.0625e-05 - accuracy: 0.9999 - val_loss: 0.0054 - val_accuracy: 0.9681\n",
            "\n",
            " Epoch: 51 , LR: 0.10\n",
            "Epoch 52/100\n",
            "1500/1500 [==============================] - 3s 2ms/step - loss: 3.0310e-05 - accuracy: 0.9999 - val_loss: 0.0054 - val_accuracy: 0.9682\n",
            "\n",
            " Epoch: 52 , LR: 0.10\n"
          ]
        }
      ]
    },
    {
      "cell_type": "code",
      "metadata": {
        "id": "wAD1id1X8fjC",
        "colab": {
          "base_uri": "https://localhost:8080/",
          "height": 312
        },
        "outputId": "8efd8de1-f94a-470d-e46a-e91b54c50ff2"
      },
      "source": [
        "plt.xlabel(\"Learning rate\")\n",
        "plt.ylabel(\"Loss\")\n",
        "plt.title('lr vs loss for model with loss as mean squared error loss')\n",
        "plt.plot(training_history_mean_squared.history['lr'], training_history_mean_squared.history['loss'])"
      ],
      "execution_count": 223,
      "outputs": [
        {
          "output_type": "execute_result",
          "data": {
            "text/plain": [
              "[<matplotlib.lines.Line2D at 0x7f6cbbfbdf50>]"
            ]
          },
          "metadata": {},
          "execution_count": 223
        },
        {
          "output_type": "display_data",
          "data": {
            "image/png": "[encoded data removed]",
            "text/plain": [
              "<Figure size 432x288 with 1 Axes>"
            ]
          },
          "metadata": {
            "needs_background": "light"
          }
        }
      ]
    },
    {
      "cell_type": "code",
      "metadata": {
        "id": "FD01-VUoiX9s",
        "colab": {
          "base_uri": "https://localhost:8080/"
        },
        "outputId": "357500fe-cb16-40e6-a85c-d11de4f2ec8f"
      },
      "source": [
        "print(\"model accuracy for loss as mean squared error loss: \", np.mean(training_history_mean_squared.history['accuracy']))"
      ],
      "execution_count": 224,
      "outputs": [
        {
          "output_type": "stream",
          "name": "stdout",
          "text": [
            "model accuracy for loss as mean squared error loss:  0.9998253136873245\n"
          ]
        }
      ]
    },
    {
      "cell_type": "code",
      "metadata": {
        "id": "PZkS5ubmW2eC",
        "colab": {
          "base_uri": "https://localhost:8080/",
          "height": 295
        },
        "outputId": "1d109124-4493-4f78-cfc6-b761bd4e4e2d"
      },
      "source": [
        "plt.plot(training_history_mean_squared.history['accuracy'])\n",
        "plt.plot(training_history_mean_squared.history['val_accuracy'])\n",
        "plt.title('model accuracy for loss as mean squared error loss')\n",
        "plt.ylabel('accuracy')\n",
        "plt.xlabel('epoch')\n",
        "plt.legend(['train', 'test'], loc='upper left')\n",
        "plt.show()"
      ],
      "execution_count": 225,
      "outputs": [
        {
          "output_type": "display_data",
          "data": {
            "image/png": "[encoded data removed]",
            "text/plain": [
              "<Figure size 432x288 with 1 Axes>"
            ]
          },
          "metadata": {
            "needs_background": "light"
          }
        }
      ]
    },
    {
      "cell_type": "code",
      "metadata": {
        "id": "T_avXr8FYlED"
      },
      "source": [
        "# test set / data \n",
        "X_test = X_test.reshape(-1, 28*28)\n",
        "X_test = X_test.astype('float32') / 255\n",
        "\n",
        "# test set / target \n",
        "y_test = tf.keras.utils.to_categorical(y_test , num_classes=10)"
      ],
      "execution_count": 226,
      "outputs": []
    },
    {
      "cell_type": "markdown",
      "metadata": {
        "id": "VaieDYzbMwlD"
      },
      "source": [
        "Step 8"
      ]
    },
    {
      "cell_type": "markdown",
      "metadata": {
        "id": "hxMZNopAQiI1"
      },
      "source": [
        "Let us compare all the losses. We see that the Categorical loss started much higher than the other two, but all losses plateau close to 0 as the epoch number reaches its end."
      ]
    },
    {
      "cell_type": "code",
      "metadata": {
        "colab": {
          "base_uri": "https://localhost:8080/",
          "height": 295
        },
        "id": "oC5LqKc_KhIG",
        "outputId": "a81c0da4-714e-4277-af75-d5cee2ac5f9e"
      },
      "source": [
        "plt.plot(training_history_categorical_crossentropy.history['loss'])\n",
        "plt.plot(training_history_binary_crossentropy.history['loss'])\n",
        "plt.plot(training_history_mean_squared.history['loss'])\n",
        "plt.title('Loss compilation')\n",
        "plt.ylabel('loss')\n",
        "plt.xlabel('epoch')\n",
        "plt.legend(['categorical', 'binary', 'meansquared'], loc='upper left')\n",
        "plt.show()"
      ],
      "execution_count": 227,
      "outputs": [
        {
          "output_type": "display_data",
          "data": {
            "image/png": "[encoded data removed]",
            "text/plain": [
              "<Figure size 432x288 with 1 Axes>"
            ]
          },
          "metadata": {
            "needs_background": "light"
          }
        }
      ]
    },
    {
      "cell_type": "markdown",
      "metadata": {
        "id": "6SWvF_H3QzsZ"
      },
      "source": [
        "Let us take the model with Binary Crossentropy and evaluate it with the test data."
      ]
    },
    {
      "cell_type": "code",
      "metadata": {
        "id": "DKNPhaVjapEm",
        "colab": {
          "base_uri": "https://localhost:8080/"
        },
        "outputId": "ef836483-8af8-47ae-b33f-b233687671d7"
      },
      "source": [
        "training_history_binary_crossentropy_test = model.evaluate(X_test, y_test)\n"
      ],
      "execution_count": 228,
      "outputs": [
        {
          "output_type": "stream",
          "name": "stdout",
          "text": [
            "313/313 [==============================] - 1s 2ms/step - loss: 0.0052 - accuracy: 0.9696\n"
          ]
        }
      ]
    },
    {
      "cell_type": "markdown",
      "metadata": {
        "id": "BsVeAstOQ7lC"
      },
      "source": [
        "Here we see that we get 96.66% accuracy. This can be improved.\n"
      ]
    },
    {
      "cell_type": "markdown",
      "metadata": {
        "id": "GcwWIT-yRA41"
      },
      "source": [
        "Let us reshape X_train and X_test for our CNN. The Conv2D layer expects a shape of (28x28x1). "
      ]
    },
    {
      "cell_type": "code",
      "metadata": {
        "id": "j-V19J3PGTCN"
      },
      "source": [
        "X_train = X_train.reshape(X_train.shape[0], 28, 28, 1)\n",
        "X_test = X_test.reshape(X_test.shape[0], 28, 28, 1)"
      ],
      "execution_count": 229,
      "outputs": []
    },
    {
      "cell_type": "code",
      "metadata": {
        "id": "Bvyrho-MG7fE"
      },
      "source": [
        "X_train, X_val, y_train, y_val = train_test_split(X_train, y_train, test_size=0.20, random_state=42)"
      ],
      "execution_count": 230,
      "outputs": []
    },
    {
      "cell_type": "markdown",
      "metadata": {
        "id": "7Ii4M0BFRSGg"
      },
      "source": [
        "Let us create the second model, i.e. the CNN"
      ]
    },
    {
      "cell_type": "code",
      "metadata": {
        "colab": {
          "base_uri": "https://localhost:8080/"
        },
        "id": "JtZ4Ee81FXTk",
        "outputId": "b13bcd14-517f-4b16-b4d4-070267b8c0ae"
      },
      "source": [
        "from tensorflow.keras.models import Sequential\n",
        "from tensorflow.keras.layers import Dense, Conv2D, Dropout, Flatten, MaxPooling2D\n",
        "\n",
        "model = Sequential()\n",
        "model.add(Conv2D(28, kernel_size=(3,3), input_shape=(28,28,1)))\n",
        "model.add(MaxPooling2D(pool_size=(2, 2)))\n",
        "model.add(Flatten()) # Flattening the 2D arrays for fully connected layers\n",
        "model.add(Dense(128, activation=tf.nn.relu))\n",
        "model.add(Dropout(0.2))\n",
        "model.add(Dense(10,activation=tf.nn.softmax))\n",
        "\n",
        "model.summary()"
      ],
      "execution_count": 231,
      "outputs": [
        {
          "output_type": "stream",
          "name": "stdout",
          "text": [
            "Model: \"sequential_12\"\n",
            "_________________________________________________________________\n",
            "Layer (type)                 Output Shape              Param #   \n",
            "=================================================================\n",
            "conv2d_6 (Conv2D)            (None, 26, 26, 28)        280       \n",
            "_________________________________________________________________\n",
            "max_pooling2d_5 (MaxPooling2 (None, 13, 13, 28)        0         \n",
            "_________________________________________________________________\n",
            "flatten_5 (Flatten)          (None, 4732)              0         \n",
            "_________________________________________________________________\n",
            "dense_25 (Dense)             (None, 128)               605824    \n",
            "_________________________________________________________________\n",
            "dropout_5 (Dropout)          (None, 128)               0         \n",
            "_________________________________________________________________\n",
            "dense_26 (Dense)             (None, 10)                1290      \n",
            "=================================================================\n",
            "Total params: 607,394\n",
            "Trainable params: 607,394\n",
            "Non-trainable params: 0\n",
            "_________________________________________________________________\n"
          ]
        }
      ]
    },
    {
      "cell_type": "markdown",
      "metadata": {
        "id": "ZgMPHFaFRXbT"
      },
      "source": [
        "Let us take Categorical Crossentropy Loss as this model's loss."
      ]
    },
    {
      "cell_type": "code",
      "metadata": {
        "id": "vonM-LEqF99z"
      },
      "source": [
        "model.compile(loss=keras.losses.categorical_crossentropy,\n",
        "              optimizer=sgd,\n",
        "              metrics=['accuracy'])"
      ],
      "execution_count": 232,
      "outputs": []
    },
    {
      "cell_type": "code",
      "metadata": {
        "colab": {
          "base_uri": "https://localhost:8080/"
        },
        "id": "d5I6HrKeGBbx",
        "outputId": "d88c77b6-37c4-4519-dd84-8178785a1e29"
      },
      "source": [
        "training_history_categorical_crossentropy_newModel = model.fit(\n",
        "    X_train,\n",
        "    y_train,\n",
        "    epochs=10,\n",
        "    verbose=1,\n",
        "    validation_data=(X_val, y_val),\n",
        "    callbacks=callback_list\n",
        ")"
      ],
      "execution_count": 233,
      "outputs": [
        {
          "output_type": "stream",
          "name": "stdout",
          "text": [
            "Epoch 1/10\n",
            "1200/1200 [==============================] - 20s 16ms/step - loss: 0.2987 - accuracy: 0.9087 - val_loss: 0.1307 - val_accuracy: 0.9618\n",
            "\n",
            " Epoch: 1 , LR: 0.10\n",
            "Epoch 2/10\n",
            "1200/1200 [==============================] - 19s 16ms/step - loss: 0.1301 - accuracy: 0.9603 - val_loss: 0.0885 - val_accuracy: 0.9745\n",
            "\n",
            " Epoch: 2 , LR: 0.10\n",
            "Epoch 3/10\n",
            "1200/1200 [==============================] - 19s 16ms/step - loss: 0.0910 - accuracy: 0.9719 - val_loss: 0.0747 - val_accuracy: 0.9784\n",
            "\n",
            " Epoch: 3 , LR: 0.10\n",
            "Epoch 4/10\n",
            "1200/1200 [==============================] - 19s 16ms/step - loss: 0.0691 - accuracy: 0.9790 - val_loss: 0.0670 - val_accuracy: 0.9807\n",
            "\n",
            " Epoch: 4 , LR: 0.10\n",
            "Epoch 5/10\n",
            "1200/1200 [==============================] - 19s 16ms/step - loss: 0.0559 - accuracy: 0.9820 - val_loss: 0.0645 - val_accuracy: 0.9802\n",
            "\n",
            " Epoch: 5 , LR: 0.10\n",
            "Epoch 6/10\n",
            "1200/1200 [==============================] - 19s 16ms/step - loss: 0.0461 - accuracy: 0.9861 - val_loss: 0.0685 - val_accuracy: 0.9800\n",
            "\n",
            " Epoch: 6 , LR: 0.10\n",
            "Epoch 7/10\n",
            "1200/1200 [==============================] - 19s 16ms/step - loss: 0.0405 - accuracy: 0.9868 - val_loss: 0.0606 - val_accuracy: 0.9826\n",
            "\n",
            " Epoch: 7 , LR: 0.10\n",
            "Epoch 8/10\n",
            "1200/1200 [==============================] - 19s 16ms/step - loss: 0.0334 - accuracy: 0.9892 - val_loss: 0.0547 - val_accuracy: 0.9842\n",
            "\n",
            " Epoch: 8 , LR: 0.10\n",
            "Epoch 9/10\n",
            "1200/1200 [==============================] - 19s 16ms/step - loss: 0.0287 - accuracy: 0.9909 - val_loss: 0.0615 - val_accuracy: 0.9826\n",
            "\n",
            " Epoch: 9 , LR: 0.10\n",
            "Epoch 10/10\n",
            "1200/1200 [==============================] - 20s 16ms/step - loss: 0.0240 - accuracy: 0.9917 - val_loss: 0.0617 - val_accuracy: 0.9848\n",
            "\n",
            " Epoch: 10 , LR: 0.10\n"
          ]
        }
      ]
    },
    {
      "cell_type": "code",
      "metadata": {
        "colab": {
          "base_uri": "https://localhost:8080/"
        },
        "id": "8fxKvwx-H0pU",
        "outputId": "eaa50434-c341-404e-8ce6-689be8ce2309"
      },
      "source": [
        "print(\"model accuracy for the CNN: \", np.mean(training_history_categorical_crossentropy_newModel.history['accuracy']))"
      ],
      "execution_count": 234,
      "outputs": [
        {
          "output_type": "stream",
          "name": "stdout",
          "text": [
            "model accuracy for the CNN:  0.9746614515781402\n"
          ]
        }
      ]
    },
    {
      "cell_type": "code",
      "metadata": {
        "colab": {
          "base_uri": "https://localhost:8080/",
          "height": 312
        },
        "id": "EVWKGTvsH9gP",
        "outputId": "afde122c-8b6f-4e5b-9738-12d6c79b8f06"
      },
      "source": [
        "plt.xlabel(\"Learning rate\")\n",
        "plt.ylabel(\"Loss\")\n",
        "plt.title('lr vs loss for the CNN model')\n",
        "plt.plot(training_history_categorical_crossentropy_newModel.history['lr'], training_history_categorical_crossentropy_newModel.history['loss'])"
      ],
      "execution_count": 235,
      "outputs": [
        {
          "output_type": "execute_result",
          "data": {
            "text/plain": [
              "[<matplotlib.lines.Line2D at 0x7f6cc5d123d0>]"
            ]
          },
          "metadata": {},
          "execution_count": 235
        },
        {
          "output_type": "display_data",
          "data": {
            "image/png": "[encoded data removed]",
            "text/plain": [
              "<Figure size 432x288 with 1 Axes>"
            ]
          },
          "metadata": {
            "needs_background": "light"
          }
        }
      ]
    },
    {
      "cell_type": "code",
      "metadata": {
        "colab": {
          "base_uri": "https://localhost:8080/",
          "height": 295
        },
        "id": "bSbRpWhDIJ5i",
        "outputId": "a945a880-d015-4590-bfb8-fe65c55c323c"
      },
      "source": [
        "plt.plot(training_history_categorical_crossentropy_newModel.history['accuracy'])\n",
        "plt.plot(training_history_categorical_crossentropy_newModel.history['val_accuracy'])\n",
        "plt.title('model accuracy for the CNN model')\n",
        "plt.ylabel('accuracy')\n",
        "plt.xlabel('epoch')\n",
        "plt.legend(['train', 'test'], loc='upper left')\n",
        "plt.show()"
      ],
      "execution_count": 236,
      "outputs": [
        {
          "output_type": "display_data",
          "data": {
            "image/png": "[encoded data removed]",
            "text/plain": [
              "<Figure size 432x288 with 1 Axes>"
            ]
          },
          "metadata": {
            "needs_background": "light"
          }
        }
      ]
    },
    {
      "cell_type": "markdown",
      "metadata": {
        "id": "wnjffSeyRl0b"
      },
      "source": [
        "Even with 10 epochs we can see that the CNN has a better result than the first model. Let us evaluate it with the test data."
      ]
    },
    {
      "cell_type": "code",
      "metadata": {
        "colab": {
          "base_uri": "https://localhost:8080/"
        },
        "id": "pvAWAz7wIVKc",
        "outputId": "327159da-c867-40f0-feb2-dcc7a2cd01fe"
      },
      "source": [
        "training_history_categorical_crossentropy_newModel_test = model.evaluate(X_test, y_test)"
      ],
      "execution_count": 237,
      "outputs": [
        {
          "output_type": "stream",
          "name": "stdout",
          "text": [
            "313/313 [==============================] - 2s 6ms/step - loss: 0.0623 - accuracy: 0.9828\n"
          ]
        }
      ]
    },
    {
      "cell_type": "markdown",
      "metadata": {
        "id": "qm6wGqeWM74c"
      },
      "source": [
        "Step 11\n",
        "\n",
        "The accuracy of the model on the test data is above 98%. "
      ]
    }
  ]
}